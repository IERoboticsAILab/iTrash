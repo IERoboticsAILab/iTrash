{
 "cells": [
  {
   "cell_type": "code",
   "execution_count": null,
   "metadata": {},
   "outputs": [],
   "source": [
    "from utils import decode  # Ensure you have your decode function imported\n",
    "from pymongo import MongoClient\n",
    "import os\n",
    "import pandas as pd\n",
    "import numpy as np\n",
    "import plotly.graph_objects as go\n",
    "import plotly.express as px\n",
    "import matplotlib.pyplot as plt\n",
    "from pySankey.sankey import sankey"
   ]
  },
  {
   "cell_type": "code",
   "execution_count": 144,
   "metadata": {},
   "outputs": [],
   "source": [
    "\n",
    "images = []\n",
    "\n",
    "# Connect to MongoDB\n",
    "mongo_connection_string = os.getenv(\"MONGO_CONNECTION_STRING\")\n",
    "mongo_db_name = os.getenv(\"MONGO_DB_NAME\")\n",
    "mongo_collection_name = os.getenv(\"MONGO_COLLECTION_NAME\")\n",
    "\n",
    "# Connect to MongoDB\n",
    "client = MongoClient(mongo_connection_string)\n",
    "db = client[mongo_db_name]\n",
    "collection = db[mongo_collection_name]\n",
    "\n",
    "# Retrieve all the images from the database\n",
    "cursor = collection.find({})\n",
    "for document in cursor:\n",
    "    images.append(document)\n",
    "\n",
    "\n",
    "\n",
    "#create df\n",
    "\n",
    "df = pd.DataFrame(images)\n",
    "df.to_csv('images.csv', index=False)"
   ]
  },
  {
   "cell_type": "code",
   "execution_count": 252,
   "metadata": {},
   "outputs": [
    {
     "data": {
      "text/html": [
       "<div>\n",
       "<style scoped>\n",
       "    .dataframe tbody tr th:only-of-type {\n",
       "        vertical-align: middle;\n",
       "    }\n",
       "\n",
       "    .dataframe tbody tr th {\n",
       "        vertical-align: top;\n",
       "    }\n",
       "\n",
       "    .dataframe thead th {\n",
       "        text-align: right;\n",
       "    }\n",
       "</style>\n",
       "<table border=\"1\" class=\"dataframe\">\n",
       "  <thead>\n",
       "    <tr style=\"text-align: right;\">\n",
       "      <th></th>\n",
       "      <th>_id</th>\n",
       "      <th>image</th>\n",
       "      <th>date</th>\n",
       "      <th>time</th>\n",
       "      <th>predicted</th>\n",
       "      <th>real</th>\n",
       "      <th>person_thrown</th>\n",
       "      <th>qr_scanned</th>\n",
       "    </tr>\n",
       "  </thead>\n",
       "  <tbody>\n",
       "    <tr>\n",
       "      <th>0</th>\n",
       "      <td>66e145253120393632f689b4</td>\n",
       "      <td>iVBORw0KGgoAAAANSUhEUgAAAoAAAAHgCAIAAAC6s0uzAA...</td>\n",
       "      <td>2024-09-11</td>\n",
       "      <td>09:21:50</td>\n",
       "      <td>yellow</td>\n",
       "      <td>yellow</td>\n",
       "      <td>yellow</td>\n",
       "      <td>0</td>\n",
       "    </tr>\n",
       "    <tr>\n",
       "      <th>1</th>\n",
       "      <td>66e14bdf3120393632f689b5</td>\n",
       "      <td>iVBORw0KGgoAAAANSUhEUgAAAoAAAAHgCAIAAAC6s0uzAA...</td>\n",
       "      <td>2024-09-11</td>\n",
       "      <td>09:50:41</td>\n",
       "      <td>brown</td>\n",
       "      <td>blue</td>\n",
       "      <td>brown</td>\n",
       "      <td>0</td>\n",
       "    </tr>\n",
       "    <tr>\n",
       "      <th>2</th>\n",
       "      <td>66e14bfd3120393632f689b6</td>\n",
       "      <td>iVBORw0KGgoAAAANSUhEUgAAAoAAAAHgCAIAAAC6s0uzAA...</td>\n",
       "      <td>2024-09-11</td>\n",
       "      <td>09:51:02</td>\n",
       "      <td>blue</td>\n",
       "      <td>blue</td>\n",
       "      <td>blue</td>\n",
       "      <td>0</td>\n",
       "    </tr>\n",
       "    <tr>\n",
       "      <th>3</th>\n",
       "      <td>66e14c1f3120393632f689b7</td>\n",
       "      <td>iVBORw0KGgoAAAANSUhEUgAAAoAAAAHgCAIAAAC6s0uzAA...</td>\n",
       "      <td>2024-09-11</td>\n",
       "      <td>09:51:37</td>\n",
       "      <td>blue</td>\n",
       "      <td>blue</td>\n",
       "      <td>blue</td>\n",
       "      <td>0</td>\n",
       "    </tr>\n",
       "    <tr>\n",
       "      <th>4</th>\n",
       "      <td>66e153673120393632f689b8</td>\n",
       "      <td>iVBORw0KGgoAAAANSUhEUgAAAoAAAAHgCAIAAAC6s0uzAA...</td>\n",
       "      <td>2024-09-11</td>\n",
       "      <td>10:22:39</td>\n",
       "      <td>blue</td>\n",
       "      <td>blue</td>\n",
       "      <td>blue</td>\n",
       "      <td>0</td>\n",
       "    </tr>\n",
       "  </tbody>\n",
       "</table>\n",
       "</div>"
      ],
      "text/plain": [
       "                        _id  \\\n",
       "0  66e145253120393632f689b4   \n",
       "1  66e14bdf3120393632f689b5   \n",
       "2  66e14bfd3120393632f689b6   \n",
       "3  66e14c1f3120393632f689b7   \n",
       "4  66e153673120393632f689b8   \n",
       "\n",
       "                                               image        date      time  \\\n",
       "0  iVBORw0KGgoAAAANSUhEUgAAAoAAAAHgCAIAAAC6s0uzAA...  2024-09-11  09:21:50   \n",
       "1  iVBORw0KGgoAAAANSUhEUgAAAoAAAAHgCAIAAAC6s0uzAA...  2024-09-11  09:50:41   \n",
       "2  iVBORw0KGgoAAAANSUhEUgAAAoAAAAHgCAIAAAC6s0uzAA...  2024-09-11  09:51:02   \n",
       "3  iVBORw0KGgoAAAANSUhEUgAAAoAAAAHgCAIAAAC6s0uzAA...  2024-09-11  09:51:37   \n",
       "4  iVBORw0KGgoAAAANSUhEUgAAAoAAAAHgCAIAAAC6s0uzAA...  2024-09-11  10:22:39   \n",
       "\n",
       "  predicted    real person_thrown  qr_scanned  \n",
       "0    yellow  yellow        yellow           0  \n",
       "1     brown    blue         brown           0  \n",
       "2      blue    blue          blue           0  \n",
       "3      blue    blue          blue           0  \n",
       "4      blue    blue          blue           0  "
      ]
     },
     "execution_count": 252,
     "metadata": {},
     "output_type": "execute_result"
    }
   ],
   "source": [
    "import pandas as pd\n",
    "df = pd.read_csv('images.csv')\n",
    "df.head()"
   ]
  },
  {
   "cell_type": "code",
   "execution_count": 253,
   "metadata": {},
   "outputs": [
    {
     "data": {
      "text/html": [
       "<div>\n",
       "<style scoped>\n",
       "    .dataframe tbody tr th:only-of-type {\n",
       "        vertical-align: middle;\n",
       "    }\n",
       "\n",
       "    .dataframe tbody tr th {\n",
       "        vertical-align: top;\n",
       "    }\n",
       "\n",
       "    .dataframe thead th {\n",
       "        text-align: right;\n",
       "    }\n",
       "</style>\n",
       "<table border=\"1\" class=\"dataframe\">\n",
       "  <thead>\n",
       "    <tr style=\"text-align: right;\">\n",
       "      <th></th>\n",
       "      <th>_id</th>\n",
       "      <th>image</th>\n",
       "      <th>date</th>\n",
       "      <th>time</th>\n",
       "      <th>predicted</th>\n",
       "      <th>real</th>\n",
       "      <th>person_thrown</th>\n",
       "      <th>qr_scanned</th>\n",
       "    </tr>\n",
       "  </thead>\n",
       "  <tbody>\n",
       "    <tr>\n",
       "      <th>0</th>\n",
       "      <td>66e145253120393632f689b4</td>\n",
       "      <td>iVBORw0KGgoAAAANSUhEUgAAAoAAAAHgCAIAAAC6s0uzAA...</td>\n",
       "      <td>2024-09-11</td>\n",
       "      <td>09:21:50</td>\n",
       "      <td>yellow</td>\n",
       "      <td>yellow</td>\n",
       "      <td>yellow</td>\n",
       "      <td>0</td>\n",
       "    </tr>\n",
       "    <tr>\n",
       "      <th>1</th>\n",
       "      <td>66e14bdf3120393632f689b5</td>\n",
       "      <td>iVBORw0KGgoAAAANSUhEUgAAAoAAAAHgCAIAAAC6s0uzAA...</td>\n",
       "      <td>2024-09-11</td>\n",
       "      <td>09:50:41</td>\n",
       "      <td>brown</td>\n",
       "      <td>blue</td>\n",
       "      <td>brown</td>\n",
       "      <td>0</td>\n",
       "    </tr>\n",
       "    <tr>\n",
       "      <th>2</th>\n",
       "      <td>66e14bfd3120393632f689b6</td>\n",
       "      <td>iVBORw0KGgoAAAANSUhEUgAAAoAAAAHgCAIAAAC6s0uzAA...</td>\n",
       "      <td>2024-09-11</td>\n",
       "      <td>09:51:02</td>\n",
       "      <td>blue</td>\n",
       "      <td>blue</td>\n",
       "      <td>blue</td>\n",
       "      <td>0</td>\n",
       "    </tr>\n",
       "    <tr>\n",
       "      <th>3</th>\n",
       "      <td>66e14c1f3120393632f689b7</td>\n",
       "      <td>iVBORw0KGgoAAAANSUhEUgAAAoAAAAHgCAIAAAC6s0uzAA...</td>\n",
       "      <td>2024-09-11</td>\n",
       "      <td>09:51:37</td>\n",
       "      <td>blue</td>\n",
       "      <td>blue</td>\n",
       "      <td>blue</td>\n",
       "      <td>0</td>\n",
       "    </tr>\n",
       "    <tr>\n",
       "      <th>4</th>\n",
       "      <td>66e153673120393632f689b8</td>\n",
       "      <td>iVBORw0KGgoAAAANSUhEUgAAAoAAAAHgCAIAAAC6s0uzAA...</td>\n",
       "      <td>2024-09-11</td>\n",
       "      <td>10:22:39</td>\n",
       "      <td>blue</td>\n",
       "      <td>blue</td>\n",
       "      <td>blue</td>\n",
       "      <td>0</td>\n",
       "    </tr>\n",
       "  </tbody>\n",
       "</table>\n",
       "</div>"
      ],
      "text/plain": [
       "                        _id  \\\n",
       "0  66e145253120393632f689b4   \n",
       "1  66e14bdf3120393632f689b5   \n",
       "2  66e14bfd3120393632f689b6   \n",
       "3  66e14c1f3120393632f689b7   \n",
       "4  66e153673120393632f689b8   \n",
       "\n",
       "                                               image       date      time  \\\n",
       "0  iVBORw0KGgoAAAANSUhEUgAAAoAAAAHgCAIAAAC6s0uzAA... 2024-09-11  09:21:50   \n",
       "1  iVBORw0KGgoAAAANSUhEUgAAAoAAAAHgCAIAAAC6s0uzAA... 2024-09-11  09:50:41   \n",
       "2  iVBORw0KGgoAAAANSUhEUgAAAoAAAAHgCAIAAAC6s0uzAA... 2024-09-11  09:51:02   \n",
       "3  iVBORw0KGgoAAAANSUhEUgAAAoAAAAHgCAIAAAC6s0uzAA... 2024-09-11  09:51:37   \n",
       "4  iVBORw0KGgoAAAANSUhEUgAAAoAAAAHgCAIAAAC6s0uzAA... 2024-09-11  10:22:39   \n",
       "\n",
       "  predicted    real person_thrown  qr_scanned  \n",
       "0    yellow  yellow        yellow           0  \n",
       "1     brown    blue         brown           0  \n",
       "2      blue    blue          blue           0  \n",
       "3      blue    blue          blue           0  \n",
       "4      blue    blue          blue           0  "
      ]
     },
     "execution_count": 253,
     "metadata": {},
     "output_type": "execute_result"
    }
   ],
   "source": [
    "#sort by date and if equal by time\n",
    "df['date'] = pd.to_datetime(df['date'])\n",
    "df = df.sort_values(by=['date', 'time'], ascending=[True, True])\n",
    "df.head()"
   ]
  },
  {
   "cell_type": "markdown",
   "metadata": {},
   "source": [
    "# Analysis by date"
   ]
  },
  {
   "cell_type": "code",
   "execution_count": 254,
   "metadata": {},
   "outputs": [],
   "source": [
    "# 2024-09-11 - day 1\n",
    "# 2024-09-12 - day 2\n",
    "# 2024-09-13 - day 3\n",
    "# 2024-09-16 - day 4\n",
    "# 2024-09-17 - day 5\n",
    "df_day1 = df[df['date'] == '2024-09-17']\n",
    "df_day2 = df[df['date'] == '2024-09-12']\n",
    "df_day3 = df[df['date'] == '2024-09-13']\n",
    "df_day4 = df[df['date'] == '2024-09-16']\n",
    "df_day5 = df[df['date'] == '2024-09-17']\n"
   ]
  },
  {
   "cell_type": "code",
   "execution_count": 255,
   "metadata": {},
   "outputs": [
    {
     "name": "stderr",
     "output_type": "stream",
     "text": [
      "/tmp/ipykernel_144314/3207468770.py:2: SettingWithCopyWarning:\n",
      "\n",
      "\n",
      "A value is trying to be set on a copy of a slice from a DataFrame.\n",
      "Try using .loc[row_indexer,col_indexer] = value instead\n",
      "\n",
      "See the caveats in the documentation: https://pandas.pydata.org/pandas-docs/stable/user_guide/indexing.html#returning-a-view-versus-a-copy\n",
      "\n",
      "/tmp/ipykernel_144314/3207468770.py:3: SettingWithCopyWarning:\n",
      "\n",
      "\n",
      "A value is trying to be set on a copy of a slice from a DataFrame.\n",
      "Try using .loc[row_indexer,col_indexer] = value instead\n",
      "\n",
      "See the caveats in the documentation: https://pandas.pydata.org/pandas-docs/stable/user_guide/indexing.html#returning-a-view-versus-a-copy\n",
      "\n",
      "/tmp/ipykernel_144314/3207468770.py:4: SettingWithCopyWarning:\n",
      "\n",
      "\n",
      "A value is trying to be set on a copy of a slice from a DataFrame.\n",
      "Try using .loc[row_indexer,col_indexer] = value instead\n",
      "\n",
      "See the caveats in the documentation: https://pandas.pydata.org/pandas-docs/stable/user_guide/indexing.html#returning-a-view-versus-a-copy\n",
      "\n",
      "/tmp/ipykernel_144314/3207468770.py:5: SettingWithCopyWarning:\n",
      "\n",
      "\n",
      "A value is trying to be set on a copy of a slice from a DataFrame.\n",
      "Try using .loc[row_indexer,col_indexer] = value instead\n",
      "\n",
      "See the caveats in the documentation: https://pandas.pydata.org/pandas-docs/stable/user_guide/indexing.html#returning-a-view-versus-a-copy\n",
      "\n",
      "/tmp/ipykernel_144314/3207468770.py:6: SettingWithCopyWarning:\n",
      "\n",
      "\n",
      "A value is trying to be set on a copy of a slice from a DataFrame.\n",
      "Try using .loc[row_indexer,col_indexer] = value instead\n",
      "\n",
      "See the caveats in the documentation: https://pandas.pydata.org/pandas-docs/stable/user_guide/indexing.html#returning-a-view-versus-a-copy\n",
      "\n"
     ]
    }
   ],
   "source": [
    "# create column called day and assign the day number to each dataframe\n",
    "df_day1['day'] = 1\n",
    "df_day2['day'] = 2\n",
    "df_day3['day'] = 3\n",
    "df_day4['day'] = 4\n",
    "df_day5['day'] = 5"
   ]
  },
  {
   "cell_type": "code",
   "execution_count": 256,
   "metadata": {},
   "outputs": [
    {
     "data": {
      "text/html": [
       "<div>\n",
       "<style scoped>\n",
       "    .dataframe tbody tr th:only-of-type {\n",
       "        vertical-align: middle;\n",
       "    }\n",
       "\n",
       "    .dataframe tbody tr th {\n",
       "        vertical-align: top;\n",
       "    }\n",
       "\n",
       "    .dataframe thead th {\n",
       "        text-align: right;\n",
       "    }\n",
       "</style>\n",
       "<table border=\"1\" class=\"dataframe\">\n",
       "  <thead>\n",
       "    <tr style=\"text-align: right;\">\n",
       "      <th></th>\n",
       "      <th>time</th>\n",
       "      <th>predicted</th>\n",
       "      <th>real</th>\n",
       "      <th>person_thrown</th>\n",
       "      <th>qr_scanned</th>\n",
       "      <th>day</th>\n",
       "    </tr>\n",
       "  </thead>\n",
       "  <tbody>\n",
       "    <tr>\n",
       "      <th>0</th>\n",
       "      <td>08:21:04</td>\n",
       "      <td>yellow</td>\n",
       "      <td>yellow</td>\n",
       "      <td>NaN</td>\n",
       "      <td>0</td>\n",
       "      <td>1</td>\n",
       "    </tr>\n",
       "    <tr>\n",
       "      <th>1</th>\n",
       "      <td>08:48:05</td>\n",
       "      <td>blue</td>\n",
       "      <td>blue</td>\n",
       "      <td>blue</td>\n",
       "      <td>0</td>\n",
       "      <td>1</td>\n",
       "    </tr>\n",
       "    <tr>\n",
       "      <th>2</th>\n",
       "      <td>08:55:42</td>\n",
       "      <td>blue</td>\n",
       "      <td>blue</td>\n",
       "      <td>blue</td>\n",
       "      <td>0</td>\n",
       "      <td>1</td>\n",
       "    </tr>\n",
       "    <tr>\n",
       "      <th>3</th>\n",
       "      <td>10:46:05</td>\n",
       "      <td>yellow</td>\n",
       "      <td>yellow</td>\n",
       "      <td>NaN</td>\n",
       "      <td>0</td>\n",
       "      <td>1</td>\n",
       "    </tr>\n",
       "    <tr>\n",
       "      <th>4</th>\n",
       "      <td>12:28:06</td>\n",
       "      <td>brown</td>\n",
       "      <td>brown</td>\n",
       "      <td>brown</td>\n",
       "      <td>0</td>\n",
       "      <td>1</td>\n",
       "    </tr>\n",
       "  </tbody>\n",
       "</table>\n",
       "</div>"
      ],
      "text/plain": [
       "       time predicted    real person_thrown  qr_scanned  day\n",
       "0  08:21:04    yellow  yellow           NaN           0    1\n",
       "1  08:48:05      blue    blue          blue           0    1\n",
       "2  08:55:42      blue    blue          blue           0    1\n",
       "3  10:46:05    yellow  yellow           NaN           0    1\n",
       "4  12:28:06     brown   brown         brown           0    1"
      ]
     },
     "execution_count": 256,
     "metadata": {},
     "output_type": "execute_result"
    }
   ],
   "source": [
    "df = pd.concat([df_day1, df_day2, df_day3, df_day4, df_day5])\n",
    "df = df.reset_index(drop=True)\n",
    "# drop _id and image columns\n",
    "df = df.drop(columns=['_id', 'image', \"date\"])\n",
    "df.head()"
   ]
  },
  {
   "cell_type": "code",
   "execution_count": 257,
   "metadata": {},
   "outputs": [
    {
     "data": {
      "text/plain": [
       "(79, 6)"
      ]
     },
     "execution_count": 257,
     "metadata": {},
     "output_type": "execute_result"
    }
   ],
   "source": [
    "df.shape\n",
    "#df.to_csv('raw_itrash.csv', index=False)"
   ]
  },
  {
   "cell_type": "code",
   "execution_count": 258,
   "metadata": {},
   "outputs": [],
   "source": [
    "#substitute nan with \"nonthrown\" in person_thrown\n",
    "df['person_thrown'] = df['person_thrown'].fillna(\"nonthrown\")\n",
    "df[\"predicted\"] = df[\"predicted\"].fillna(\"nonpredicted\")\n",
    "df[\"real\"] = df[\"real\"].fillna(\"nonclassified\")"
   ]
  },
  {
   "cell_type": "code",
   "execution_count": 259,
   "metadata": {},
   "outputs": [
    {
     "data": {
      "text/html": [
       "<div>\n",
       "<style scoped>\n",
       "    .dataframe tbody tr th:only-of-type {\n",
       "        vertical-align: middle;\n",
       "    }\n",
       "\n",
       "    .dataframe tbody tr th {\n",
       "        vertical-align: top;\n",
       "    }\n",
       "\n",
       "    .dataframe thead th {\n",
       "        text-align: right;\n",
       "    }\n",
       "</style>\n",
       "<table border=\"1\" class=\"dataframe\">\n",
       "  <thead>\n",
       "    <tr style=\"text-align: right;\">\n",
       "      <th></th>\n",
       "      <th>time</th>\n",
       "      <th>predicted</th>\n",
       "      <th>real</th>\n",
       "      <th>person_thrown</th>\n",
       "      <th>qr_scanned</th>\n",
       "      <th>day</th>\n",
       "    </tr>\n",
       "  </thead>\n",
       "  <tbody>\n",
       "    <tr>\n",
       "      <th>1</th>\n",
       "      <td>08:48:05</td>\n",
       "      <td>blue</td>\n",
       "      <td>blue</td>\n",
       "      <td>blue</td>\n",
       "      <td>0</td>\n",
       "      <td>1</td>\n",
       "    </tr>\n",
       "    <tr>\n",
       "      <th>2</th>\n",
       "      <td>08:55:42</td>\n",
       "      <td>blue</td>\n",
       "      <td>blue</td>\n",
       "      <td>blue</td>\n",
       "      <td>0</td>\n",
       "      <td>1</td>\n",
       "    </tr>\n",
       "    <tr>\n",
       "      <th>4</th>\n",
       "      <td>12:28:06</td>\n",
       "      <td>brown</td>\n",
       "      <td>brown</td>\n",
       "      <td>brown</td>\n",
       "      <td>0</td>\n",
       "      <td>1</td>\n",
       "    </tr>\n",
       "    <tr>\n",
       "      <th>6</th>\n",
       "      <td>13:26:29</td>\n",
       "      <td>yellow</td>\n",
       "      <td>yellow</td>\n",
       "      <td>yellow</td>\n",
       "      <td>0</td>\n",
       "      <td>1</td>\n",
       "    </tr>\n",
       "    <tr>\n",
       "      <th>7</th>\n",
       "      <td>13:27:03</td>\n",
       "      <td>yellow</td>\n",
       "      <td>yellow</td>\n",
       "      <td>blue</td>\n",
       "      <td>0</td>\n",
       "      <td>1</td>\n",
       "    </tr>\n",
       "    <tr>\n",
       "      <th>...</th>\n",
       "      <td>...</td>\n",
       "      <td>...</td>\n",
       "      <td>...</td>\n",
       "      <td>...</td>\n",
       "      <td>...</td>\n",
       "      <td>...</td>\n",
       "    </tr>\n",
       "    <tr>\n",
       "      <th>74</th>\n",
       "      <td>13:27:03</td>\n",
       "      <td>yellow</td>\n",
       "      <td>yellow</td>\n",
       "      <td>blue</td>\n",
       "      <td>0</td>\n",
       "      <td>5</td>\n",
       "    </tr>\n",
       "    <tr>\n",
       "      <th>75</th>\n",
       "      <td>13:27:13</td>\n",
       "      <td>yellow</td>\n",
       "      <td>yellow</td>\n",
       "      <td>blue</td>\n",
       "      <td>0</td>\n",
       "      <td>5</td>\n",
       "    </tr>\n",
       "    <tr>\n",
       "      <th>76</th>\n",
       "      <td>13:27:24</td>\n",
       "      <td>yellow</td>\n",
       "      <td>yellow</td>\n",
       "      <td>yellow</td>\n",
       "      <td>0</td>\n",
       "      <td>5</td>\n",
       "    </tr>\n",
       "    <tr>\n",
       "      <th>77</th>\n",
       "      <td>15:19:12</td>\n",
       "      <td>brown</td>\n",
       "      <td>yellow</td>\n",
       "      <td>brown</td>\n",
       "      <td>0</td>\n",
       "      <td>5</td>\n",
       "    </tr>\n",
       "    <tr>\n",
       "      <th>78</th>\n",
       "      <td>15:43:34</td>\n",
       "      <td>brown</td>\n",
       "      <td>brown</td>\n",
       "      <td>brown</td>\n",
       "      <td>0</td>\n",
       "      <td>5</td>\n",
       "    </tr>\n",
       "  </tbody>\n",
       "</table>\n",
       "<p>67 rows × 6 columns</p>\n",
       "</div>"
      ],
      "text/plain": [
       "        time predicted    real person_thrown  qr_scanned  day\n",
       "1   08:48:05      blue    blue          blue           0    1\n",
       "2   08:55:42      blue    blue          blue           0    1\n",
       "4   12:28:06     brown   brown         brown           0    1\n",
       "6   13:26:29    yellow  yellow        yellow           0    1\n",
       "7   13:27:03    yellow  yellow          blue           0    1\n",
       "..       ...       ...     ...           ...         ...  ...\n",
       "74  13:27:03    yellow  yellow          blue           0    5\n",
       "75  13:27:13    yellow  yellow          blue           0    5\n",
       "76  13:27:24    yellow  yellow        yellow           0    5\n",
       "77  15:19:12     brown  yellow         brown           0    5\n",
       "78  15:43:34     brown   brown         brown           0    5\n",
       "\n",
       "[67 rows x 6 columns]"
      ]
     },
     "execution_count": 259,
     "metadata": {},
     "output_type": "execute_result"
    }
   ],
   "source": [
    "#take the rows where person_thrown is not null\n",
    "df_thrown = df[df['person_thrown'] != \"nonthrown\"]\n",
    "df_thrown"
   ]
  },
  {
   "cell_type": "code",
   "execution_count": 260,
   "metadata": {},
   "outputs": [
    {
     "name": "stderr",
     "output_type": "stream",
     "text": [
      "/tmp/ipykernel_144314/3804818731.py:1: SettingWithCopyWarning:\n",
      "\n",
      "\n",
      "A value is trying to be set on a copy of a slice from a DataFrame.\n",
      "Try using .loc[row_indexer,col_indexer] = value instead\n",
      "\n",
      "See the caveats in the documentation: https://pandas.pydata.org/pandas-docs/stable/user_guide/indexing.html#returning-a-view-versus-a-copy\n",
      "\n",
      "/tmp/ipykernel_144314/3804818731.py:2: SettingWithCopyWarning:\n",
      "\n",
      "\n",
      "A value is trying to be set on a copy of a slice from a DataFrame.\n",
      "Try using .loc[row_indexer,col_indexer] = value instead\n",
      "\n",
      "See the caveats in the documentation: https://pandas.pydata.org/pandas-docs/stable/user_guide/indexing.html#returning-a-view-versus-a-copy\n",
      "\n",
      "/tmp/ipykernel_144314/3804818731.py:3: SettingWithCopyWarning:\n",
      "\n",
      "\n",
      "A value is trying to be set on a copy of a slice from a DataFrame.\n",
      "Try using .loc[row_indexer,col_indexer] = value instead\n",
      "\n",
      "See the caveats in the documentation: https://pandas.pydata.org/pandas-docs/stable/user_guide/indexing.html#returning-a-view-versus-a-copy\n",
      "\n",
      "/tmp/ipykernel_144314/3804818731.py:4: SettingWithCopyWarning:\n",
      "\n",
      "\n",
      "A value is trying to be set on a copy of a slice from a DataFrame.\n",
      "Try using .loc[row_indexer,col_indexer] = value instead\n",
      "\n",
      "See the caveats in the documentation: https://pandas.pydata.org/pandas-docs/stable/user_guide/indexing.html#returning-a-view-versus-a-copy\n",
      "\n",
      "/tmp/ipykernel_144314/3804818731.py:5: SettingWithCopyWarning:\n",
      "\n",
      "\n",
      "A value is trying to be set on a copy of a slice from a DataFrame.\n",
      "Try using .loc[row_indexer,col_indexer] = value instead\n",
      "\n",
      "See the caveats in the documentation: https://pandas.pydata.org/pandas-docs/stable/user_guide/indexing.html#returning-a-view-versus-a-copy\n",
      "\n",
      "/tmp/ipykernel_144314/3804818731.py:6: SettingWithCopyWarning:\n",
      "\n",
      "\n",
      "A value is trying to be set on a copy of a slice from a DataFrame.\n",
      "Try using .loc[row_indexer,col_indexer] = value instead\n",
      "\n",
      "See the caveats in the documentation: https://pandas.pydata.org/pandas-docs/stable/user_guide/indexing.html#returning-a-view-versus-a-copy\n",
      "\n"
     ]
    }
   ],
   "source": [
    "df_thrown['thrown_real'] = df_thrown['person_thrown'] == df_thrown['real']\n",
    "df_thrown['thrown_predited'] = df_thrown['person_thrown'] == df_thrown['predicted']\n",
    "df_thrown['predicted_real'] = df_thrown['predicted'] == df_thrown['real']\n",
    "df_thrown['thrown_real'] = df_thrown['thrown_real'].astype(int)\n",
    "df_thrown['thrown_predited'] = df_thrown['thrown_predited'].astype(int)\n",
    "df_thrown['predicted_real'] = df_thrown['predicted_real'].astype(int)\n",
    "#df_thrown"
   ]
  },
  {
   "cell_type": "code",
   "execution_count": 261,
   "metadata": {},
   "outputs": [
    {
     "data": {
      "text/plain": [
       "real\n",
       "yellow    36\n",
       "blue      17\n",
       "brown     14\n",
       "Name: count, dtype: int64"
      ]
     },
     "execution_count": 261,
     "metadata": {},
     "output_type": "execute_result"
    }
   ],
   "source": [
    "df_thrown[\"real\"].value_counts()"
   ]
  },
  {
   "cell_type": "code",
   "execution_count": 262,
   "metadata": {},
   "outputs": [
    {
     "data": {
      "text/plain": [
       "predicted\n",
       "yellow    32\n",
       "brown     21\n",
       "blue      14\n",
       "Name: count, dtype: int64"
      ]
     },
     "execution_count": 262,
     "metadata": {},
     "output_type": "execute_result"
    }
   ],
   "source": [
    "df_thrown[\"predicted\"].value_counts()"
   ]
  },
  {
   "cell_type": "code",
   "execution_count": 263,
   "metadata": {},
   "outputs": [
    {
     "data": {
      "text/html": [
       "<div>\n",
       "<style scoped>\n",
       "    .dataframe tbody tr th:only-of-type {\n",
       "        vertical-align: middle;\n",
       "    }\n",
       "\n",
       "    .dataframe tbody tr th {\n",
       "        vertical-align: top;\n",
       "    }\n",
       "\n",
       "    .dataframe thead th {\n",
       "        text-align: right;\n",
       "    }\n",
       "</style>\n",
       "<table border=\"1\" class=\"dataframe\">\n",
       "  <thead>\n",
       "    <tr style=\"text-align: right;\">\n",
       "      <th></th>\n",
       "      <th>time</th>\n",
       "      <th>predicted</th>\n",
       "      <th>real</th>\n",
       "      <th>person_thrown</th>\n",
       "      <th>qr_scanned</th>\n",
       "      <th>thrown_real</th>\n",
       "      <th>thrown_predited</th>\n",
       "      <th>predicted_real</th>\n",
       "    </tr>\n",
       "    <tr>\n",
       "      <th>day</th>\n",
       "      <th></th>\n",
       "      <th></th>\n",
       "      <th></th>\n",
       "      <th></th>\n",
       "      <th></th>\n",
       "      <th></th>\n",
       "      <th></th>\n",
       "      <th></th>\n",
       "    </tr>\n",
       "  </thead>\n",
       "  <tbody>\n",
       "    <tr>\n",
       "      <th>1</th>\n",
       "      <td>9</td>\n",
       "      <td>9</td>\n",
       "      <td>9</td>\n",
       "      <td>9</td>\n",
       "      <td>9</td>\n",
       "      <td>9</td>\n",
       "      <td>9</td>\n",
       "      <td>9</td>\n",
       "    </tr>\n",
       "    <tr>\n",
       "      <th>2</th>\n",
       "      <td>17</td>\n",
       "      <td>17</td>\n",
       "      <td>17</td>\n",
       "      <td>17</td>\n",
       "      <td>17</td>\n",
       "      <td>17</td>\n",
       "      <td>17</td>\n",
       "      <td>17</td>\n",
       "    </tr>\n",
       "    <tr>\n",
       "      <th>3</th>\n",
       "      <td>17</td>\n",
       "      <td>17</td>\n",
       "      <td>17</td>\n",
       "      <td>17</td>\n",
       "      <td>17</td>\n",
       "      <td>17</td>\n",
       "      <td>17</td>\n",
       "      <td>17</td>\n",
       "    </tr>\n",
       "    <tr>\n",
       "      <th>4</th>\n",
       "      <td>15</td>\n",
       "      <td>15</td>\n",
       "      <td>15</td>\n",
       "      <td>15</td>\n",
       "      <td>15</td>\n",
       "      <td>15</td>\n",
       "      <td>15</td>\n",
       "      <td>15</td>\n",
       "    </tr>\n",
       "    <tr>\n",
       "      <th>5</th>\n",
       "      <td>9</td>\n",
       "      <td>9</td>\n",
       "      <td>9</td>\n",
       "      <td>9</td>\n",
       "      <td>9</td>\n",
       "      <td>9</td>\n",
       "      <td>9</td>\n",
       "      <td>9</td>\n",
       "    </tr>\n",
       "  </tbody>\n",
       "</table>\n",
       "</div>"
      ],
      "text/plain": [
       "     time  predicted  real  person_thrown  qr_scanned  thrown_real  \\\n",
       "day                                                                  \n",
       "1       9          9     9              9           9            9   \n",
       "2      17         17    17             17          17           17   \n",
       "3      17         17    17             17          17           17   \n",
       "4      15         15    15             15          15           15   \n",
       "5       9          9     9              9           9            9   \n",
       "\n",
       "     thrown_predited  predicted_real  \n",
       "day                                   \n",
       "1                  9               9  \n",
       "2                 17              17  \n",
       "3                 17              17  \n",
       "4                 15              15  \n",
       "5                  9               9  "
      ]
     },
     "execution_count": 263,
     "metadata": {},
     "output_type": "execute_result"
    }
   ],
   "source": [
    "# groupby day and count rows\n",
    "df_thrown.groupby('day').count()"
   ]
  },
  {
   "cell_type": "code",
   "execution_count": 264,
   "metadata": {},
   "outputs": [
    {
     "data": {
      "text/html": [
       "<div>\n",
       "<style scoped>\n",
       "    .dataframe tbody tr th:only-of-type {\n",
       "        vertical-align: middle;\n",
       "    }\n",
       "\n",
       "    .dataframe tbody tr th {\n",
       "        vertical-align: top;\n",
       "    }\n",
       "\n",
       "    .dataframe thead th {\n",
       "        text-align: right;\n",
       "    }\n",
       "</style>\n",
       "<table border=\"1\" class=\"dataframe\">\n",
       "  <thead>\n",
       "    <tr style=\"text-align: right;\">\n",
       "      <th></th>\n",
       "      <th>thrown_real</th>\n",
       "      <th>thrown_predited</th>\n",
       "      <th>predicted_real</th>\n",
       "    </tr>\n",
       "    <tr>\n",
       "      <th>day</th>\n",
       "      <th></th>\n",
       "      <th></th>\n",
       "      <th></th>\n",
       "    </tr>\n",
       "  </thead>\n",
       "  <tbody>\n",
       "    <tr>\n",
       "      <th>1</th>\n",
       "      <td>0.666667</td>\n",
       "      <td>0.777778</td>\n",
       "      <td>0.888889</td>\n",
       "    </tr>\n",
       "    <tr>\n",
       "      <th>2</th>\n",
       "      <td>0.529412</td>\n",
       "      <td>0.705882</td>\n",
       "      <td>0.823529</td>\n",
       "    </tr>\n",
       "    <tr>\n",
       "      <th>3</th>\n",
       "      <td>0.823529</td>\n",
       "      <td>0.764706</td>\n",
       "      <td>0.705882</td>\n",
       "    </tr>\n",
       "    <tr>\n",
       "      <th>4</th>\n",
       "      <td>0.466667</td>\n",
       "      <td>0.466667</td>\n",
       "      <td>0.866667</td>\n",
       "    </tr>\n",
       "    <tr>\n",
       "      <th>5</th>\n",
       "      <td>0.666667</td>\n",
       "      <td>0.777778</td>\n",
       "      <td>0.888889</td>\n",
       "    </tr>\n",
       "  </tbody>\n",
       "</table>\n",
       "</div>"
      ],
      "text/plain": [
       "     thrown_real  thrown_predited  predicted_real\n",
       "day                                              \n",
       "1       0.666667         0.777778        0.888889\n",
       "2       0.529412         0.705882        0.823529\n",
       "3       0.823529         0.764706        0.705882\n",
       "4       0.466667         0.466667        0.866667\n",
       "5       0.666667         0.777778        0.888889"
      ]
     },
     "execution_count": 264,
     "metadata": {},
     "output_type": "execute_result"
    }
   ],
   "source": [
    "#groupby day and take the mean of thrown_real\n",
    "df_thrown[[\"day\", \"thrown_real\", 'thrown_predited', 'predicted_real'  ]].groupby('day').mean()"
   ]
  },
  {
   "cell_type": "code",
   "execution_count": 265,
   "metadata": {},
   "outputs": [
    {
     "data": {
      "text/plain": [
       "np.float64(0.6268656716417911)"
      ]
     },
     "execution_count": 265,
     "metadata": {},
     "output_type": "execute_result"
    }
   ],
   "source": [
    "#calculate ratio of correct predictions\n",
    "df_thrown['thrown_real'].mean()"
   ]
  },
  {
   "cell_type": "code",
   "execution_count": 266,
   "metadata": {},
   "outputs": [
    {
     "data": {
      "text/plain": [
       "np.float64(0.6865671641791045)"
      ]
     },
     "execution_count": 266,
     "metadata": {},
     "output_type": "execute_result"
    }
   ],
   "source": [
    "df_thrown['thrown_predited'].mean()"
   ]
  },
  {
   "cell_type": "code",
   "execution_count": 267,
   "metadata": {},
   "outputs": [
    {
     "data": {
      "text/plain": [
       "np.float64(0.8208955223880597)"
      ]
     },
     "execution_count": 267,
     "metadata": {},
     "output_type": "execute_result"
    }
   ],
   "source": [
    "df_thrown['predicted_real'].mean()"
   ]
  },
  {
   "cell_type": "code",
   "execution_count": 268,
   "metadata": {},
   "outputs": [
    {
     "data": {
      "text/html": [
       "<div>\n",
       "<style scoped>\n",
       "    .dataframe tbody tr th:only-of-type {\n",
       "        vertical-align: middle;\n",
       "    }\n",
       "\n",
       "    .dataframe tbody tr th {\n",
       "        vertical-align: top;\n",
       "    }\n",
       "\n",
       "    .dataframe thead th {\n",
       "        text-align: right;\n",
       "    }\n",
       "</style>\n",
       "<table border=\"1\" class=\"dataframe\">\n",
       "  <thead>\n",
       "    <tr style=\"text-align: right;\">\n",
       "      <th></th>\n",
       "      <th>qr_scanned</th>\n",
       "    </tr>\n",
       "    <tr>\n",
       "      <th>day</th>\n",
       "      <th></th>\n",
       "    </tr>\n",
       "  </thead>\n",
       "  <tbody>\n",
       "    <tr>\n",
       "      <th>1</th>\n",
       "      <td>0</td>\n",
       "    </tr>\n",
       "    <tr>\n",
       "      <th>2</th>\n",
       "      <td>2</td>\n",
       "    </tr>\n",
       "    <tr>\n",
       "      <th>3</th>\n",
       "      <td>2</td>\n",
       "    </tr>\n",
       "    <tr>\n",
       "      <th>4</th>\n",
       "      <td>0</td>\n",
       "    </tr>\n",
       "    <tr>\n",
       "      <th>5</th>\n",
       "      <td>0</td>\n",
       "    </tr>\n",
       "  </tbody>\n",
       "</table>\n",
       "</div>"
      ],
      "text/plain": [
       "     qr_scanned\n",
       "day            \n",
       "1             0\n",
       "2             2\n",
       "3             2\n",
       "4             0\n",
       "5             0"
      ]
     },
     "execution_count": 268,
     "metadata": {},
     "output_type": "execute_result"
    }
   ],
   "source": [
    "# GROUPBY DAY AND GET HOW MANY QR SCANNED\n",
    "df_thrown[[\"day\", \"qr_scanned\"]].groupby('day').sum()"
   ]
  },
  {
   "cell_type": "markdown",
   "metadata": {},
   "source": [
    "# Get N for each color each day"
   ]
  },
  {
   "cell_type": "code",
   "execution_count": 269,
   "metadata": {},
   "outputs": [
    {
     "data": {
      "text/plain": [
       "(array(['blue', 'brown', 'yellow'], dtype=object),\n",
       " array(['blue', 'brown', 'yellow'], dtype=object))"
      ]
     },
     "execution_count": 269,
     "metadata": {},
     "output_type": "execute_result"
    }
   ],
   "source": [
    "df_thrown.real.unique(), df_thrown.predicted.unique()"
   ]
  },
  {
   "cell_type": "code",
   "execution_count": 270,
   "metadata": {},
   "outputs": [
    {
     "name": "stderr",
     "output_type": "stream",
     "text": [
      "/tmp/ipykernel_144314/2879380328.py:2: DeprecationWarning:\n",
      "\n",
      "DataFrameGroupBy.apply operated on the grouping columns. This behavior is deprecated, and in a future version of pandas the grouping columns will be excluded from the operation. Either pass `include_groups=False` to exclude the groupings or explicitly select the grouping columns after groupby to silence this warning.\n",
      "\n"
     ]
    },
    {
     "data": {
      "text/plain": [
       "day  predicted\n",
       "1    yellow        4\n",
       "     brown         3\n",
       "     blue          2\n",
       "2    yellow       12\n",
       "     blue          3\n",
       "     brown         2\n",
       "3    brown         8\n",
       "     yellow        5\n",
       "     blue          4\n",
       "4    yellow        7\n",
       "     brown         5\n",
       "     blue          3\n",
       "5    yellow        4\n",
       "     brown         3\n",
       "     blue          2\n",
       "Name: count, dtype: int64"
      ]
     },
     "execution_count": 270,
     "metadata": {},
     "output_type": "execute_result"
    }
   ],
   "source": [
    "#get yellow, blue and brown counts for each day\n",
    "df_thrown.groupby('day').apply(lambda x: x['predicted'].value_counts())"
   ]
  },
  {
   "cell_type": "code",
   "execution_count": 271,
   "metadata": {},
   "outputs": [
    {
     "name": "stderr",
     "output_type": "stream",
     "text": [
      "/tmp/ipykernel_144314/2753731640.py:2: DeprecationWarning:\n",
      "\n",
      "DataFrameGroupBy.apply operated on the grouping columns. This behavior is deprecated, and in a future version of pandas the grouping columns will be excluded from the operation. Either pass `include_groups=False` to exclude the groupings or explicitly select the grouping columns after groupby to silence this warning.\n",
      "\n"
     ]
    },
    {
     "data": {
      "text/plain": [
       "day  real  \n",
       "1    yellow     5\n",
       "     blue       2\n",
       "     brown      2\n",
       "2    yellow    11\n",
       "     blue       5\n",
       "     brown      1\n",
       "3    blue       7\n",
       "     yellow     6\n",
       "     brown      4\n",
       "4    yellow     9\n",
       "     brown      5\n",
       "     blue       1\n",
       "5    yellow     5\n",
       "     blue       2\n",
       "     brown      2\n",
       "Name: count, dtype: int64"
      ]
     },
     "execution_count": 271,
     "metadata": {},
     "output_type": "execute_result"
    }
   ],
   "source": [
    "#get yellow, blue and brown counts for each day\n",
    "df_thrown.groupby('day').apply(lambda x: x['real'].value_counts())"
   ]
  },
  {
   "cell_type": "code",
   "execution_count": 272,
   "metadata": {},
   "outputs": [
    {
     "name": "stderr",
     "output_type": "stream",
     "text": [
      "/tmp/ipykernel_144314/1485725711.py:2: DeprecationWarning:\n",
      "\n",
      "DataFrameGroupBy.apply operated on the grouping columns. This behavior is deprecated, and in a future version of pandas the grouping columns will be excluded from the operation. Either pass `include_groups=False` to exclude the groupings or explicitly select the grouping columns after groupby to silence this warning.\n",
      "\n"
     ]
    },
    {
     "data": {
      "text/plain": [
       "day  person_thrown\n",
       "1    blue             4\n",
       "     brown            3\n",
       "     yellow           2\n",
       "2    yellow           9\n",
       "     brown            7\n",
       "     blue             1\n",
       "3    blue             8\n",
       "     yellow           5\n",
       "     brown            4\n",
       "4    yellow           7\n",
       "     blue             7\n",
       "     brown            1\n",
       "5    blue             4\n",
       "     brown            3\n",
       "     yellow           2\n",
       "Name: count, dtype: int64"
      ]
     },
     "execution_count": 272,
     "metadata": {},
     "output_type": "execute_result"
    }
   ],
   "source": [
    "#get yellow, blue and brown counts for each day\n",
    "df_thrown.groupby('day').apply(lambda x: x['person_thrown'].value_counts())"
   ]
  },
  {
   "cell_type": "code",
   "execution_count": 273,
   "metadata": {},
   "outputs": [
    {
     "data": {
      "text/plain": [
       "predicted\n",
       "yellow    32\n",
       "brown     21\n",
       "blue      14\n",
       "Name: count, dtype: int64"
      ]
     },
     "execution_count": 273,
     "metadata": {},
     "output_type": "execute_result"
    }
   ],
   "source": [
    "df_thrown[\"predicted\"].value_counts()"
   ]
  },
  {
   "cell_type": "code",
   "execution_count": 274,
   "metadata": {},
   "outputs": [
    {
     "data": {
      "text/plain": [
       "real\n",
       "yellow    36\n",
       "blue      17\n",
       "brown     14\n",
       "Name: count, dtype: int64"
      ]
     },
     "execution_count": 274,
     "metadata": {},
     "output_type": "execute_result"
    }
   ],
   "source": [
    "df_thrown[\"real\"].value_counts()"
   ]
  },
  {
   "cell_type": "markdown",
   "metadata": {},
   "source": [
    "# Pred vs Real "
   ]
  },
  {
   "cell_type": "markdown",
   "metadata": {},
   "source": [
    "We calculate the precision of the model with the entire dataset ( even if the item has not been thrown to the trashcan)."
   ]
  },
  {
   "cell_type": "code",
   "execution_count": 275,
   "metadata": {},
   "outputs": [
    {
     "name": "stderr",
     "output_type": "stream",
     "text": [
      "/tmp/ipykernel_144314/102404890.py:1: SettingWithCopyWarning:\n",
      "\n",
      "\n",
      "A value is trying to be set on a copy of a slice from a DataFrame.\n",
      "Try using .loc[row_indexer,col_indexer] = value instead\n",
      "\n",
      "See the caveats in the documentation: https://pandas.pydata.org/pandas-docs/stable/user_guide/indexing.html#returning-a-view-versus-a-copy\n",
      "\n"
     ]
    }
   ],
   "source": [
    "df_thrown['pred_vs_real'] = np.where(df_thrown['real'] == df_thrown['predicted'], 1, 0)"
   ]
  },
  {
   "cell_type": "code",
   "execution_count": 276,
   "metadata": {},
   "outputs": [
    {
     "data": {
      "text/plain": [
       "np.float64(0.8208955223880597)"
      ]
     },
     "execution_count": 276,
     "metadata": {},
     "output_type": "execute_result"
    }
   ],
   "source": [
    "#calculate mean of correct values\n",
    "mean_correct = df_thrown['pred_vs_real'].mean()\n",
    "mean_correct"
   ]
  },
  {
   "cell_type": "code",
   "execution_count": 301,
   "metadata": {},
   "outputs": [
    {
     "data": {
      "image/png": "[encoded data removed]",
      "text/plain": [
       "<Figure size 600x600 with 1 Axes>"
      ]
     },
     "metadata": {},
     "output_type": "display_data"
    }
   ],
   "source": [
    "# sankey plot\n",
    "\n",
    "colors = {\n",
    "    \"apple\": \"#f71b1b\",\n",
    "    \"blue\": \"#1b7ef7\",\n",
    "    \"yellow\": \"#f3f71b\",\n",
    "    \"lime\": \"#12e23f\",\n",
    "    \"brown\": \"#9b4f0f\",\n",
    "    \"nonthrown\": \"#000000\",\n",
    "    \"nonclassified\": \"#000000\",\n",
    "}\n",
    "\n",
    "left_order = [\"yellow\", \"blue\", \"brown\"]\n",
    "right_order = [\"yellow\", \"blue\", \"brown\"]\n",
    "\n",
    "sankey(df_thrown[\"predicted\"], df_thrown[\"real\"], aspect=20, colorDict=colors, fontsize=12, leftLabels=left_order, rightLabels=right_order)"
   ]
  },
  {
   "cell_type": "code",
   "execution_count": 278,
   "metadata": {},
   "outputs": [
    {
     "name": "stdout",
     "output_type": "stream",
     "text": [
      "Pred yellow, real yellow: 30\n",
      "Pred blue, real yellow: 3\n",
      "Pred brown, real yellow: 3\n"
     ]
    }
   ],
   "source": [
    "#YELLOW\n",
    "print('Pred yellow, real yellow:', df_thrown[(df_thrown['predicted'] == 'yellow') & (df_thrown['real'] == 'yellow')].day.count())\n",
    "print('Pred blue, real yellow:', df_thrown[(df_thrown['predicted'] == 'blue') & (df_thrown['real'] == 'yellow')].day.count())\n",
    "print('Pred brown, real yellow:', df_thrown[(df_thrown['predicted'] == 'brown') & (df_thrown['real'] == 'yellow')].day.count())"
   ]
  },
  {
   "cell_type": "code",
   "execution_count": 279,
   "metadata": {},
   "outputs": [
    {
     "name": "stdout",
     "output_type": "stream",
     "text": [
      "Pred yellow, real blue: 2\n",
      "Pred blue, reak blue: 11\n",
      "Pred brown, real blue: 4\n"
     ]
    }
   ],
   "source": [
    "#BLUE THROWN\n",
    "print('Pred yellow, real blue:', df_thrown[(df_thrown['predicted'] == 'yellow') & (df_thrown['real'] == 'blue')].day.count())\n",
    "print('Pred blue, reak blue:', df_thrown[(df_thrown['predicted'] == 'blue') & (df_thrown['real'] == 'blue')].day.count())\n",
    "print('Pred brown, real blue:', df_thrown[(df_thrown['predicted'] == 'brown') & (df_thrown['real'] == 'blue')].day.count())\n"
   ]
  },
  {
   "cell_type": "code",
   "execution_count": 280,
   "metadata": {},
   "outputs": [
    {
     "name": "stdout",
     "output_type": "stream",
     "text": [
      "Pred yellow, real brown: 0\n",
      "Pred blue, real brown: 0\n",
      "Pred brown, real brown: 14\n"
     ]
    }
   ],
   "source": [
    "#BROWN real\n",
    "print('Pred yellow, real brown:', df_thrown[(df_thrown['predicted'] == 'yellow') & (df_thrown['real'] == 'brown')].day.count())\n",
    "print('Pred blue, real brown:', df_thrown[(df_thrown['predicted'] == 'blue') & (df_thrown['real'] == 'brown')].day.count())\n",
    "print('Pred brown, real brown:', df_thrown[(df_thrown['predicted'] == 'brown') & (df_thrown['real'] == 'brown')].day.count())"
   ]
  },
  {
   "cell_type": "markdown",
   "metadata": {},
   "source": [
    "# Pred ^ Real VS Thrown"
   ]
  },
  {
   "cell_type": "code",
   "execution_count": 281,
   "metadata": {},
   "outputs": [
    {
     "data": {
      "text/plain": [
       "(55, 10)"
      ]
     },
     "execution_count": 281,
     "metadata": {},
     "output_type": "execute_result"
    }
   ],
   "source": [
    "df_thrown_2 = df_thrown.copy()\n",
    "# take the rows where real and predicted are the same\n",
    "df_thrown_2 = df_thrown_2[df_thrown_2['real'] == df_thrown_2['predicted']]\n",
    "df_thrown_2.shape"
   ]
  },
  {
   "cell_type": "code",
   "execution_count": 282,
   "metadata": {},
   "outputs": [
    {
     "name": "stderr",
     "output_type": "stream",
     "text": [
      "/tmp/ipykernel_144314/3833853614.py:2: DeprecationWarning:\n",
      "\n",
      "DataFrameGroupBy.apply operated on the grouping columns. This behavior is deprecated, and in a future version of pandas the grouping columns will be excluded from the operation. Either pass `include_groups=False` to exclude the groupings or explicitly select the grouping columns after groupby to silence this warning.\n",
      "\n"
     ]
    },
    {
     "data": {
      "text/plain": [
       "day  predicted\n",
       "1    yellow        4\n",
       "     blue          2\n",
       "     brown         2\n",
       "2    yellow       10\n",
       "     blue          3\n",
       "     brown         1\n",
       "3    yellow        5\n",
       "     brown         4\n",
       "     blue          3\n",
       "4    yellow        7\n",
       "     brown         5\n",
       "     blue          1\n",
       "5    yellow        4\n",
       "     blue          2\n",
       "     brown         2\n",
       "Name: count, dtype: int64"
      ]
     },
     "execution_count": 282,
     "metadata": {},
     "output_type": "execute_result"
    }
   ],
   "source": [
    "#grouby day and count each color\n",
    "df_thrown_2.groupby('day').apply(lambda x: x['predicted'].value_counts())"
   ]
  },
  {
   "cell_type": "code",
   "execution_count": 283,
   "metadata": {},
   "outputs": [
    {
     "data": {
      "image/png": "[encoded data removed]",
      "text/plain": [
       "<Figure size 600x600 with 1 Axes>"
      ]
     },
     "metadata": {},
     "output_type": "display_data"
    }
   ],
   "source": [
    "## PRED AND REAL  VS  THROWN\n",
    "import pandas as pd\n",
    "import numpy as np\n",
    "import matplotlib.pyplot as plt\n",
    "\n",
    "# Import the sankey function from the sankey module within pySankey\n",
    "from pySankey.sankey import sankey\n",
    "colors = {\n",
    "    \"apple\": \"#f71b1b\",\n",
    "    \"blue\": \"#1b7ef7\",\n",
    "    \"yellow\": \"#f3f71b\",\n",
    "    \"lime\": \"#12e23f\",\n",
    "    \"brown\": \"#9b4f0f\",\n",
    "    \"nonthrown\": \"#000000\",\n",
    "    \"nonclassified\": \"#000000\",\n",
    "}\n",
    "# Example order for left and right sides\n",
    "left_order = [\"yellow\", \"blue\", \"brown\"]\n",
    "right_order = [\"yellow\", \"blue\", \"brown\"]\n",
    "\n",
    "sankey(left = df_thrown_2[\"predicted\"],\n",
    "        right =  df_thrown_2[\"person_thrown\"],\n",
    "        aspect=20, \n",
    "        colorDict=colors,\n",
    "        fontsize=12,\n",
    "        leftLabels=left_order,\n",
    "        rightLabels=right_order)"
   ]
  },
  {
   "cell_type": "code",
   "execution_count": 284,
   "metadata": {},
   "outputs": [
    {
     "name": "stdout",
     "output_type": "stream",
     "text": [
      "Pred yellow, thrown yellow: 20\n",
      "Pred blue, thrown yellow: 0\n",
      "Pred brown, thrown yellow: 2\n"
     ]
    }
   ],
   "source": [
    "#YELLOW THROWN\n",
    "print('Pred yellow, thrown yellow:', df_thrown_2[(df_thrown_2['predicted'] == 'yellow') & (df_thrown_2['person_thrown'] == 'yellow')].day.count())\n",
    "print('Pred blue, thrown yellow:', df_thrown_2[(df_thrown_2['predicted'] == 'blue') & (df_thrown_2['person_thrown'] == 'yellow')].day.count())\n",
    "print('Pred brown, thrown yellow:', df_thrown_2[(df_thrown_2['predicted'] == 'brown') & (df_thrown_2['person_thrown'] == 'yellow')].day.count())"
   ]
  },
  {
   "cell_type": "code",
   "execution_count": 285,
   "metadata": {},
   "outputs": [
    {
     "name": "stdout",
     "output_type": "stream",
     "text": [
      "Pred yellow, thrown blue: 7\n",
      "Pred blue, thrown blue: 9\n",
      "Pred brown, thrown blue: 3\n"
     ]
    }
   ],
   "source": [
    "#BLUE THROWN\n",
    "print('Pred yellow, thrown blue:', df_thrown_2[(df_thrown_2['predicted'] == 'yellow') & (df_thrown_2['person_thrown'] == 'blue')].day.count())\n",
    "print('Pred blue, thrown blue:', df_thrown_2[(df_thrown_2['predicted'] == 'blue') & (df_thrown_2['person_thrown'] == 'blue')].day.count())\n",
    "print('Pred brown, thrown blue:', df_thrown_2[(df_thrown_2['predicted'] == 'brown') & (df_thrown_2['person_thrown'] == 'blue')].day.count())\n"
   ]
  },
  {
   "cell_type": "code",
   "execution_count": 286,
   "metadata": {},
   "outputs": [
    {
     "name": "stdout",
     "output_type": "stream",
     "text": [
      "Pred yellow, thrown brown: 3\n",
      "Pred blue, thrown brown: 2\n",
      "Pred brown, thrown brown: 9\n"
     ]
    }
   ],
   "source": [
    "#BROWN THROWN\n",
    "print('Pred yellow, thrown brown:', df_thrown_2[(df_thrown_2['predicted'] == 'yellow') & (df_thrown_2['person_thrown'] == 'brown')].day.count())\n",
    "print('Pred blue, thrown brown:', df_thrown_2[(df_thrown_2['predicted'] == 'blue') & (df_thrown_2['person_thrown'] == 'brown')].day.count())\n",
    "print('Pred brown, thrown brown:', df_thrown_2[(df_thrown_2['predicted'] == 'brown') & (df_thrown_2['person_thrown'] == 'brown')].day.count())"
   ]
  },
  {
   "cell_type": "markdown",
   "metadata": {},
   "source": [
    "# QR Analysis"
   ]
  },
  {
   "cell_type": "code",
   "execution_count": 287,
   "metadata": {},
   "outputs": [
    {
     "data": {
      "text/html": [
       "<div>\n",
       "<style scoped>\n",
       "    .dataframe tbody tr th:only-of-type {\n",
       "        vertical-align: middle;\n",
       "    }\n",
       "\n",
       "    .dataframe tbody tr th {\n",
       "        vertical-align: top;\n",
       "    }\n",
       "\n",
       "    .dataframe thead th {\n",
       "        text-align: right;\n",
       "    }\n",
       "</style>\n",
       "<table border=\"1\" class=\"dataframe\">\n",
       "  <thead>\n",
       "    <tr style=\"text-align: right;\">\n",
       "      <th></th>\n",
       "      <th>time</th>\n",
       "      <th>predicted</th>\n",
       "      <th>real</th>\n",
       "      <th>person_thrown</th>\n",
       "      <th>qr_scanned</th>\n",
       "      <th>day</th>\n",
       "      <th>thrown_real</th>\n",
       "      <th>thrown_predited</th>\n",
       "      <th>predicted_real</th>\n",
       "      <th>pred_vs_real</th>\n",
       "    </tr>\n",
       "  </thead>\n",
       "  <tbody>\n",
       "    <tr>\n",
       "      <th>32</th>\n",
       "      <td>19:17:31</td>\n",
       "      <td>yellow</td>\n",
       "      <td>yellow</td>\n",
       "      <td>yellow</td>\n",
       "      <td>2</td>\n",
       "      <td>2</td>\n",
       "      <td>1</td>\n",
       "      <td>1</td>\n",
       "      <td>1</td>\n",
       "      <td>1</td>\n",
       "    </tr>\n",
       "    <tr>\n",
       "      <th>46</th>\n",
       "      <td>15:13:16</td>\n",
       "      <td>blue</td>\n",
       "      <td>blue</td>\n",
       "      <td>blue</td>\n",
       "      <td>2</td>\n",
       "      <td>3</td>\n",
       "      <td>1</td>\n",
       "      <td>1</td>\n",
       "      <td>1</td>\n",
       "      <td>1</td>\n",
       "    </tr>\n",
       "  </tbody>\n",
       "</table>\n",
       "</div>"
      ],
      "text/plain": [
       "        time predicted    real person_thrown  qr_scanned  day  thrown_real  \\\n",
       "32  19:17:31    yellow  yellow        yellow           2    2            1   \n",
       "46  15:13:16      blue    blue          blue           2    3            1   \n",
       "\n",
       "    thrown_predited  predicted_real  pred_vs_real  \n",
       "32                1               1             1  \n",
       "46                1               1             1  "
      ]
     },
     "execution_count": 287,
     "metadata": {},
     "output_type": "execute_result"
    }
   ],
   "source": [
    "#get items that qr is different from 0\n",
    "df_thrown[df_thrown['qr_scanned'] != 0]"
   ]
  },
  {
   "cell_type": "markdown",
   "metadata": {},
   "source": [
    "# Time analysis"
   ]
  },
  {
   "cell_type": "code",
   "execution_count": 288,
   "metadata": {},
   "outputs": [
    {
     "data": {
      "text/html": [
       "<div>\n",
       "<style scoped>\n",
       "    .dataframe tbody tr th:only-of-type {\n",
       "        vertical-align: middle;\n",
       "    }\n",
       "\n",
       "    .dataframe tbody tr th {\n",
       "        vertical-align: top;\n",
       "    }\n",
       "\n",
       "    .dataframe thead th {\n",
       "        text-align: right;\n",
       "    }\n",
       "</style>\n",
       "<table border=\"1\" class=\"dataframe\">\n",
       "  <thead>\n",
       "    <tr style=\"text-align: right;\">\n",
       "      <th></th>\n",
       "      <th>time</th>\n",
       "      <th>predicted</th>\n",
       "      <th>real</th>\n",
       "      <th>person_thrown</th>\n",
       "      <th>qr_scanned</th>\n",
       "      <th>day</th>\n",
       "      <th>thrown_real</th>\n",
       "      <th>thrown_predited</th>\n",
       "      <th>predicted_real</th>\n",
       "      <th>pred_vs_real</th>\n",
       "    </tr>\n",
       "  </thead>\n",
       "  <tbody>\n",
       "    <tr>\n",
       "      <th>1</th>\n",
       "      <td>08:48:05</td>\n",
       "      <td>blue</td>\n",
       "      <td>blue</td>\n",
       "      <td>blue</td>\n",
       "      <td>0</td>\n",
       "      <td>1</td>\n",
       "      <td>1</td>\n",
       "      <td>1</td>\n",
       "      <td>1</td>\n",
       "      <td>1</td>\n",
       "    </tr>\n",
       "    <tr>\n",
       "      <th>2</th>\n",
       "      <td>08:55:42</td>\n",
       "      <td>blue</td>\n",
       "      <td>blue</td>\n",
       "      <td>blue</td>\n",
       "      <td>0</td>\n",
       "      <td>1</td>\n",
       "      <td>1</td>\n",
       "      <td>1</td>\n",
       "      <td>1</td>\n",
       "      <td>1</td>\n",
       "    </tr>\n",
       "    <tr>\n",
       "      <th>4</th>\n",
       "      <td>12:28:06</td>\n",
       "      <td>brown</td>\n",
       "      <td>brown</td>\n",
       "      <td>brown</td>\n",
       "      <td>0</td>\n",
       "      <td>1</td>\n",
       "      <td>1</td>\n",
       "      <td>1</td>\n",
       "      <td>1</td>\n",
       "      <td>1</td>\n",
       "    </tr>\n",
       "    <tr>\n",
       "      <th>6</th>\n",
       "      <td>13:26:29</td>\n",
       "      <td>yellow</td>\n",
       "      <td>yellow</td>\n",
       "      <td>yellow</td>\n",
       "      <td>0</td>\n",
       "      <td>1</td>\n",
       "      <td>1</td>\n",
       "      <td>1</td>\n",
       "      <td>1</td>\n",
       "      <td>1</td>\n",
       "    </tr>\n",
       "    <tr>\n",
       "      <th>7</th>\n",
       "      <td>13:27:03</td>\n",
       "      <td>yellow</td>\n",
       "      <td>yellow</td>\n",
       "      <td>blue</td>\n",
       "      <td>0</td>\n",
       "      <td>1</td>\n",
       "      <td>0</td>\n",
       "      <td>0</td>\n",
       "      <td>1</td>\n",
       "      <td>1</td>\n",
       "    </tr>\n",
       "    <tr>\n",
       "      <th>...</th>\n",
       "      <td>...</td>\n",
       "      <td>...</td>\n",
       "      <td>...</td>\n",
       "      <td>...</td>\n",
       "      <td>...</td>\n",
       "      <td>...</td>\n",
       "      <td>...</td>\n",
       "      <td>...</td>\n",
       "      <td>...</td>\n",
       "      <td>...</td>\n",
       "    </tr>\n",
       "    <tr>\n",
       "      <th>74</th>\n",
       "      <td>13:27:03</td>\n",
       "      <td>yellow</td>\n",
       "      <td>yellow</td>\n",
       "      <td>blue</td>\n",
       "      <td>0</td>\n",
       "      <td>5</td>\n",
       "      <td>0</td>\n",
       "      <td>0</td>\n",
       "      <td>1</td>\n",
       "      <td>1</td>\n",
       "    </tr>\n",
       "    <tr>\n",
       "      <th>75</th>\n",
       "      <td>13:27:13</td>\n",
       "      <td>yellow</td>\n",
       "      <td>yellow</td>\n",
       "      <td>blue</td>\n",
       "      <td>0</td>\n",
       "      <td>5</td>\n",
       "      <td>0</td>\n",
       "      <td>0</td>\n",
       "      <td>1</td>\n",
       "      <td>1</td>\n",
       "    </tr>\n",
       "    <tr>\n",
       "      <th>76</th>\n",
       "      <td>13:27:24</td>\n",
       "      <td>yellow</td>\n",
       "      <td>yellow</td>\n",
       "      <td>yellow</td>\n",
       "      <td>0</td>\n",
       "      <td>5</td>\n",
       "      <td>1</td>\n",
       "      <td>1</td>\n",
       "      <td>1</td>\n",
       "      <td>1</td>\n",
       "    </tr>\n",
       "    <tr>\n",
       "      <th>77</th>\n",
       "      <td>15:19:12</td>\n",
       "      <td>brown</td>\n",
       "      <td>yellow</td>\n",
       "      <td>brown</td>\n",
       "      <td>0</td>\n",
       "      <td>5</td>\n",
       "      <td>0</td>\n",
       "      <td>1</td>\n",
       "      <td>0</td>\n",
       "      <td>0</td>\n",
       "    </tr>\n",
       "    <tr>\n",
       "      <th>78</th>\n",
       "      <td>15:43:34</td>\n",
       "      <td>brown</td>\n",
       "      <td>brown</td>\n",
       "      <td>brown</td>\n",
       "      <td>0</td>\n",
       "      <td>5</td>\n",
       "      <td>1</td>\n",
       "      <td>1</td>\n",
       "      <td>1</td>\n",
       "      <td>1</td>\n",
       "    </tr>\n",
       "  </tbody>\n",
       "</table>\n",
       "<p>67 rows × 10 columns</p>\n",
       "</div>"
      ],
      "text/plain": [
       "        time predicted    real person_thrown  qr_scanned  day  thrown_real  \\\n",
       "1   08:48:05      blue    blue          blue           0    1            1   \n",
       "2   08:55:42      blue    blue          blue           0    1            1   \n",
       "4   12:28:06     brown   brown         brown           0    1            1   \n",
       "6   13:26:29    yellow  yellow        yellow           0    1            1   \n",
       "7   13:27:03    yellow  yellow          blue           0    1            0   \n",
       "..       ...       ...     ...           ...         ...  ...          ...   \n",
       "74  13:27:03    yellow  yellow          blue           0    5            0   \n",
       "75  13:27:13    yellow  yellow          blue           0    5            0   \n",
       "76  13:27:24    yellow  yellow        yellow           0    5            1   \n",
       "77  15:19:12     brown  yellow         brown           0    5            0   \n",
       "78  15:43:34     brown   brown         brown           0    5            1   \n",
       "\n",
       "    thrown_predited  predicted_real  pred_vs_real  \n",
       "1                 1               1             1  \n",
       "2                 1               1             1  \n",
       "4                 1               1             1  \n",
       "6                 1               1             1  \n",
       "7                 0               1             1  \n",
       "..              ...             ...           ...  \n",
       "74                0               1             1  \n",
       "75                0               1             1  \n",
       "76                1               1             1  \n",
       "77                1               0             0  \n",
       "78                1               1             1  \n",
       "\n",
       "[67 rows x 10 columns]"
      ]
     },
     "execution_count": 288,
     "metadata": {},
     "output_type": "execute_result"
    }
   ],
   "source": [
    "df_thrown"
   ]
  },
  {
   "cell_type": "code",
   "execution_count": 289,
   "metadata": {},
   "outputs": [],
   "source": [
    "time_dicc = {\n",
    "    8: \"8-9 AM\",\n",
    "    9: \"9-10 AM\",\n",
    "    10: \"10-11 AM\",\n",
    "    11: \"11-12 AM\",\n",
    "    12: \"12-1 PM\",\n",
    "    13: \"1-2 PM\",\n",
    "    14: \"2-3 PM\",\n",
    "    15: \"3-4 PM\",\n",
    "    16: \"4-5 PM\",\n",
    "    17: \"5-6 PM\",\n",
    "    18: \"6-7 PM\",\n",
    "    19: \"7-8 PM\",\n",
    "}"
   ]
  },
  {
   "cell_type": "code",
   "execution_count": 290,
   "metadata": {},
   "outputs": [
    {
     "name": "stderr",
     "output_type": "stream",
     "text": [
      "/tmp/ipykernel_144314/1954953360.py:2: UserWarning:\n",
      "\n",
      "Could not infer format, so each element will be parsed individually, falling back to `dateutil`. To ensure parsing is consistent and as-expected, please specify a format.\n",
      "\n",
      "/tmp/ipykernel_144314/1954953360.py:2: SettingWithCopyWarning:\n",
      "\n",
      "\n",
      "A value is trying to be set on a copy of a slice from a DataFrame.\n",
      "Try using .loc[row_indexer,col_indexer] = value instead\n",
      "\n",
      "See the caveats in the documentation: https://pandas.pydata.org/pandas-docs/stable/user_guide/indexing.html#returning-a-view-versus-a-copy\n",
      "\n",
      "/tmp/ipykernel_144314/1954953360.py:3: SettingWithCopyWarning:\n",
      "\n",
      "\n",
      "A value is trying to be set on a copy of a slice from a DataFrame.\n",
      "Try using .loc[row_indexer,col_indexer] = value instead\n",
      "\n",
      "See the caveats in the documentation: https://pandas.pydata.org/pandas-docs/stable/user_guide/indexing.html#returning-a-view-versus-a-copy\n",
      "\n",
      "/tmp/ipykernel_144314/1954953360.py:4: SettingWithCopyWarning:\n",
      "\n",
      "\n",
      "A value is trying to be set on a copy of a slice from a DataFrame.\n",
      "Try using .loc[row_indexer,col_indexer] = value instead\n",
      "\n",
      "See the caveats in the documentation: https://pandas.pydata.org/pandas-docs/stable/user_guide/indexing.html#returning-a-view-versus-a-copy\n",
      "\n",
      "/tmp/ipykernel_144314/1954953360.py:8: DeprecationWarning:\n",
      "\n",
      "DataFrameGroupBy.apply operated on the grouping columns. This behavior is deprecated, and in a future version of pandas the grouping columns will be excluded from the operation. Either pass `include_groups=False` to exclude the groupings or explicitly select the grouping columns after groupby to silence this warning.\n",
      "\n"
     ]
    },
    {
     "data": {
      "text/plain": [
       "period\n",
       "1-2 PM      18\n",
       "10-11 AM     2\n",
       "11-12 AM    16\n",
       "12-1 PM      9\n",
       "2-3 PM       5\n",
       "3-4 PM       5\n",
       "4-5 PM       5\n",
       "7-8 PM       1\n",
       "8-9 AM       5\n",
       "9-10 AM      1\n",
       "dtype: int64"
      ]
     },
     "execution_count": 290,
     "metadata": {},
     "output_type": "execute_result"
    }
   ],
   "source": [
    "# create a plot of time \n",
    "df_thrown['time'] = pd.to_datetime(df_thrown['time'])\n",
    "df_thrown['hour'] = df_thrown['time'].dt.hour\n",
    "df_thrown['period'] = df_thrown['hour'].map(time_dicc)\n",
    "#sort by period\n",
    "df_thrown = df_thrown.sort_values(by=['hour'], ascending=True)\n",
    "#get yellow, blue and brown counts for each day\n",
    "df_thrown.groupby('day').apply(lambda x: x['predicted'].value_counts())\n",
    "# get total count by each period\n",
    "df_thrown.groupby('period').size()"
   ]
  },
  {
   "cell_type": "code",
   "execution_count": 291,
   "metadata": {},
   "outputs": [],
   "source": [
    "#count is 1 if\n",
    "df_time_ = df_thrown.groupby(['day', 'period', 'person_thrown', 'hour']).size().reset_index(name='count')\n",
    "#sort by period\n",
    "df_time_ = df_time_.sort_values(by=['hour'], ascending=True)"
   ]
  },
  {
   "cell_type": "code",
   "execution_count": 292,
   "metadata": {},
   "outputs": [
    {
     "data": {
      "text/html": [
       "<div>\n",
       "<style scoped>\n",
       "    .dataframe tbody tr th:only-of-type {\n",
       "        vertical-align: middle;\n",
       "    }\n",
       "\n",
       "    .dataframe tbody tr th {\n",
       "        vertical-align: top;\n",
       "    }\n",
       "\n",
       "    .dataframe thead th {\n",
       "        text-align: right;\n",
       "    }\n",
       "</style>\n",
       "<table border=\"1\" class=\"dataframe\">\n",
       "  <thead>\n",
       "    <tr style=\"text-align: right;\">\n",
       "      <th></th>\n",
       "      <th>day</th>\n",
       "      <th>period</th>\n",
       "      <th>person_thrown</th>\n",
       "      <th>hour</th>\n",
       "      <th>count</th>\n",
       "    </tr>\n",
       "  </thead>\n",
       "  <tbody>\n",
       "    <tr>\n",
       "      <th>0</th>\n",
       "      <td>1</td>\n",
       "      <td>8-9 AM</td>\n",
       "      <td>blue</td>\n",
       "      <td>8</td>\n",
       "      <td>2.0</td>\n",
       "    </tr>\n",
       "    <tr>\n",
       "      <th>1</th>\n",
       "      <td>1</td>\n",
       "      <td>8-9 AM</td>\n",
       "      <td>yellow</td>\n",
       "      <td>8</td>\n",
       "      <td>0.0</td>\n",
       "    </tr>\n",
       "    <tr>\n",
       "      <th>2</th>\n",
       "      <td>1</td>\n",
       "      <td>8-9 AM</td>\n",
       "      <td>brown</td>\n",
       "      <td>8</td>\n",
       "      <td>0.0</td>\n",
       "    </tr>\n",
       "    <tr>\n",
       "      <th>3</th>\n",
       "      <td>1</td>\n",
       "      <td>9-10 AM</td>\n",
       "      <td>blue</td>\n",
       "      <td>9</td>\n",
       "      <td>0.0</td>\n",
       "    </tr>\n",
       "    <tr>\n",
       "      <th>4</th>\n",
       "      <td>1</td>\n",
       "      <td>9-10 AM</td>\n",
       "      <td>yellow</td>\n",
       "      <td>9</td>\n",
       "      <td>0.0</td>\n",
       "    </tr>\n",
       "    <tr>\n",
       "      <th>...</th>\n",
       "      <td>...</td>\n",
       "      <td>...</td>\n",
       "      <td>...</td>\n",
       "      <td>...</td>\n",
       "      <td>...</td>\n",
       "    </tr>\n",
       "    <tr>\n",
       "      <th>175</th>\n",
       "      <td>5</td>\n",
       "      <td>6-7 PM</td>\n",
       "      <td>yellow</td>\n",
       "      <td>18</td>\n",
       "      <td>0.0</td>\n",
       "    </tr>\n",
       "    <tr>\n",
       "      <th>176</th>\n",
       "      <td>5</td>\n",
       "      <td>6-7 PM</td>\n",
       "      <td>brown</td>\n",
       "      <td>18</td>\n",
       "      <td>0.0</td>\n",
       "    </tr>\n",
       "    <tr>\n",
       "      <th>177</th>\n",
       "      <td>5</td>\n",
       "      <td>7-8 PM</td>\n",
       "      <td>blue</td>\n",
       "      <td>19</td>\n",
       "      <td>0.0</td>\n",
       "    </tr>\n",
       "    <tr>\n",
       "      <th>178</th>\n",
       "      <td>5</td>\n",
       "      <td>7-8 PM</td>\n",
       "      <td>yellow</td>\n",
       "      <td>19</td>\n",
       "      <td>0.0</td>\n",
       "    </tr>\n",
       "    <tr>\n",
       "      <th>179</th>\n",
       "      <td>5</td>\n",
       "      <td>7-8 PM</td>\n",
       "      <td>brown</td>\n",
       "      <td>19</td>\n",
       "      <td>0.0</td>\n",
       "    </tr>\n",
       "  </tbody>\n",
       "</table>\n",
       "<p>180 rows × 5 columns</p>\n",
       "</div>"
      ],
      "text/plain": [
       "     day   period person_thrown  hour  count\n",
       "0      1   8-9 AM          blue     8    2.0\n",
       "1      1   8-9 AM        yellow     8    0.0\n",
       "2      1   8-9 AM         brown     8    0.0\n",
       "3      1  9-10 AM          blue     9    0.0\n",
       "4      1  9-10 AM        yellow     9    0.0\n",
       "..   ...      ...           ...   ...    ...\n",
       "175    5   6-7 PM        yellow    18    0.0\n",
       "176    5   6-7 PM         brown    18    0.0\n",
       "177    5   7-8 PM          blue    19    0.0\n",
       "178    5   7-8 PM        yellow    19    0.0\n",
       "179    5   7-8 PM         brown    19    0.0\n",
       "\n",
       "[180 rows x 5 columns]"
      ]
     },
     "execution_count": 292,
     "metadata": {},
     "output_type": "execute_result"
    }
   ],
   "source": [
    "from itertools import product\n",
    "\n",
    "# Define the ranges for each column\n",
    "days = range(1, 6)  # Days from 1 to 5\n",
    "periods = list(time_dicc.values())\n",
    "predicted_colors = ['blue', 'yellow', 'brown']  # Colors\n",
    "\n",
    "# Generate all combinations using itertools.product\n",
    "combinations = list(product(days, periods, predicted_colors))\n",
    "\n",
    "# Create a DataFrame with the combinations\n",
    "df_time = pd.DataFrame(combinations, columns=['day', 'period', 'person_thrown'])\n",
    "\n",
    "# Add a 'count' column initialized to 0 (or any other value you want\n",
    "#merge with df_time_ to get the count of each combination\n",
    "df_time = df_time.merge(df_time_, on=['day', 'period', 'person_thrown'], how='left')\n",
    "# Fill NaN values with 0\n",
    "df_time['count'] = df_time['count'].fillna(0)\n",
    "#reverse time_dicc\n",
    "time_dicc_reverse = {v: k for k, v in time_dicc.items()}\n",
    "df_time[\"hour\"] = df_time[\"period\"].map(time_dicc_reverse)\n",
    "df_time"
   ]
  },
  {
   "cell_type": "code",
   "execution_count": 293,
   "metadata": {},
   "outputs": [
    {
     "data": {
      "text/html": [
       "<div>\n",
       "<style scoped>\n",
       "    .dataframe tbody tr th:only-of-type {\n",
       "        vertical-align: middle;\n",
       "    }\n",
       "\n",
       "    .dataframe tbody tr th {\n",
       "        vertical-align: top;\n",
       "    }\n",
       "\n",
       "    .dataframe thead th {\n",
       "        text-align: right;\n",
       "    }\n",
       "</style>\n",
       "<table border=\"1\" class=\"dataframe\">\n",
       "  <thead>\n",
       "    <tr style=\"text-align: right;\">\n",
       "      <th></th>\n",
       "      <th>period</th>\n",
       "      <th>average_count</th>\n",
       "      <th>hour</th>\n",
       "    </tr>\n",
       "  </thead>\n",
       "  <tbody>\n",
       "    <tr>\n",
       "      <th>10</th>\n",
       "      <td>8-9 AM</td>\n",
       "      <td>0.333333</td>\n",
       "      <td>8</td>\n",
       "    </tr>\n",
       "    <tr>\n",
       "      <th>11</th>\n",
       "      <td>9-10 AM</td>\n",
       "      <td>0.066667</td>\n",
       "      <td>9</td>\n",
       "    </tr>\n",
       "    <tr>\n",
       "      <th>1</th>\n",
       "      <td>10-11 AM</td>\n",
       "      <td>0.133333</td>\n",
       "      <td>10</td>\n",
       "    </tr>\n",
       "    <tr>\n",
       "      <th>2</th>\n",
       "      <td>11-12 AM</td>\n",
       "      <td>1.066667</td>\n",
       "      <td>11</td>\n",
       "    </tr>\n",
       "    <tr>\n",
       "      <th>3</th>\n",
       "      <td>12-1 PM</td>\n",
       "      <td>0.600000</td>\n",
       "      <td>12</td>\n",
       "    </tr>\n",
       "    <tr>\n",
       "      <th>0</th>\n",
       "      <td>1-2 PM</td>\n",
       "      <td>1.200000</td>\n",
       "      <td>13</td>\n",
       "    </tr>\n",
       "    <tr>\n",
       "      <th>4</th>\n",
       "      <td>2-3 PM</td>\n",
       "      <td>0.333333</td>\n",
       "      <td>14</td>\n",
       "    </tr>\n",
       "    <tr>\n",
       "      <th>5</th>\n",
       "      <td>3-4 PM</td>\n",
       "      <td>0.333333</td>\n",
       "      <td>15</td>\n",
       "    </tr>\n",
       "    <tr>\n",
       "      <th>6</th>\n",
       "      <td>4-5 PM</td>\n",
       "      <td>0.333333</td>\n",
       "      <td>16</td>\n",
       "    </tr>\n",
       "    <tr>\n",
       "      <th>7</th>\n",
       "      <td>5-6 PM</td>\n",
       "      <td>0.000000</td>\n",
       "      <td>17</td>\n",
       "    </tr>\n",
       "    <tr>\n",
       "      <th>8</th>\n",
       "      <td>6-7 PM</td>\n",
       "      <td>0.000000</td>\n",
       "      <td>18</td>\n",
       "    </tr>\n",
       "    <tr>\n",
       "      <th>9</th>\n",
       "      <td>7-8 PM</td>\n",
       "      <td>0.066667</td>\n",
       "      <td>19</td>\n",
       "    </tr>\n",
       "  </tbody>\n",
       "</table>\n",
       "</div>"
      ],
      "text/plain": [
       "      period  average_count  hour\n",
       "10    8-9 AM       0.333333     8\n",
       "11   9-10 AM       0.066667     9\n",
       "1   10-11 AM       0.133333    10\n",
       "2   11-12 AM       1.066667    11\n",
       "3    12-1 PM       0.600000    12\n",
       "0     1-2 PM       1.200000    13\n",
       "4     2-3 PM       0.333333    14\n",
       "5     3-4 PM       0.333333    15\n",
       "6     4-5 PM       0.333333    16\n",
       "7     5-6 PM       0.000000    17\n",
       "8     6-7 PM       0.000000    18\n",
       "9     7-8 PM       0.066667    19"
      ]
     },
     "execution_count": 293,
     "metadata": {},
     "output_type": "execute_result"
    }
   ],
   "source": [
    "average_counts = df_time.groupby('period')['count'].mean()\n",
    "average_counts = average_counts.to_dict()\n",
    "#dict to df\n",
    "df_average_counts = pd.DataFrame(average_counts.items(), columns=['period', 'average_count'])\n",
    "df_average_counts[\"hour\"] = df_average_counts[\"period\"].map(time_dicc_reverse)\n",
    "#sort by hour\n",
    "df_average_counts = df_average_counts.sort_values(by=['hour'], ascending=True)\n",
    "df_average_counts\n"
   ]
  },
  {
   "cell_type": "code",
   "execution_count": 294,
   "metadata": {},
   "outputs": [
    {
     "data": {
      "application/vnd.plotly.v1+json": {
       "config": {
        "plotlyServerURL": "https://plot.ly"
       },
       "data": [
        {
         "alignmentgroup": "True",
         "hovertemplate": "person_thrown=blue<br>period=%{x}<br>count=%{y}<extra></extra>",
         "legendgroup": "blue",
         "marker": {
          "color": "#1b7ef7"
         },
         "name": "blue",
         "notched": false,
         "offsetgroup": "blue",
         "orientation": "v",
         "showlegend": true,
         "type": "box",
         "x": [
          "8-9 AM",
          "9-10 AM",
          "10-11 AM",
          "11-12 AM",
          "12-1 PM",
          "1-2 PM",
          "2-3 PM",
          "3-4 PM",
          "4-5 PM",
          "5-6 PM",
          "6-7 PM",
          "7-8 PM",
          "8-9 AM",
          "9-10 AM",
          "10-11 AM",
          "11-12 AM",
          "12-1 PM",
          "1-2 PM",
          "2-3 PM",
          "3-4 PM",
          "4-5 PM",
          "5-6 PM",
          "6-7 PM",
          "7-8 PM",
          "8-9 AM",
          "9-10 AM",
          "10-11 AM",
          "11-12 AM",
          "12-1 PM",
          "1-2 PM",
          "2-3 PM",
          "3-4 PM",
          "4-5 PM",
          "5-6 PM",
          "6-7 PM",
          "7-8 PM",
          "8-9 AM",
          "9-10 AM",
          "10-11 AM",
          "11-12 AM",
          "12-1 PM",
          "1-2 PM",
          "2-3 PM",
          "3-4 PM",
          "4-5 PM",
          "5-6 PM",
          "6-7 PM",
          "7-8 PM",
          "8-9 AM",
          "9-10 AM",
          "10-11 AM",
          "11-12 AM",
          "12-1 PM",
          "1-2 PM",
          "2-3 PM",
          "3-4 PM",
          "4-5 PM",
          "5-6 PM",
          "6-7 PM",
          "7-8 PM"
         ],
         "x0": " ",
         "xaxis": "x",
         "y": [
          2,
          0,
          0,
          0,
          0,
          2,
          0,
          0,
          0,
          0,
          0,
          0,
          0,
          0,
          0,
          0,
          0,
          1,
          0,
          0,
          0,
          0,
          0,
          0,
          0,
          0,
          0,
          1,
          1,
          3,
          0,
          1,
          2,
          0,
          0,
          0,
          0,
          0,
          0,
          0,
          5,
          2,
          0,
          0,
          0,
          0,
          0,
          0,
          2,
          0,
          0,
          0,
          0,
          2,
          0,
          0,
          0,
          0,
          0,
          0
         ],
         "y0": " ",
         "yaxis": "y"
        },
        {
         "alignmentgroup": "True",
         "hovertemplate": "person_thrown=yellow<br>period=%{x}<br>count=%{y}<extra></extra>",
         "legendgroup": "yellow",
         "marker": {
          "color": "#fff200"
         },
         "name": "yellow",
         "notched": false,
         "offsetgroup": "yellow",
         "orientation": "v",
         "showlegend": true,
         "type": "box",
         "x": [
          "8-9 AM",
          "9-10 AM",
          "10-11 AM",
          "11-12 AM",
          "12-1 PM",
          "1-2 PM",
          "2-3 PM",
          "3-4 PM",
          "4-5 PM",
          "5-6 PM",
          "6-7 PM",
          "7-8 PM",
          "8-9 AM",
          "9-10 AM",
          "10-11 AM",
          "11-12 AM",
          "12-1 PM",
          "1-2 PM",
          "2-3 PM",
          "3-4 PM",
          "4-5 PM",
          "5-6 PM",
          "6-7 PM",
          "7-8 PM",
          "8-9 AM",
          "9-10 AM",
          "10-11 AM",
          "11-12 AM",
          "12-1 PM",
          "1-2 PM",
          "2-3 PM",
          "3-4 PM",
          "4-5 PM",
          "5-6 PM",
          "6-7 PM",
          "7-8 PM",
          "8-9 AM",
          "9-10 AM",
          "10-11 AM",
          "11-12 AM",
          "12-1 PM",
          "1-2 PM",
          "2-3 PM",
          "3-4 PM",
          "4-5 PM",
          "5-6 PM",
          "6-7 PM",
          "7-8 PM",
          "8-9 AM",
          "9-10 AM",
          "10-11 AM",
          "11-12 AM",
          "12-1 PM",
          "1-2 PM",
          "2-3 PM",
          "3-4 PM",
          "4-5 PM",
          "5-6 PM",
          "6-7 PM",
          "7-8 PM"
         ],
         "x0": " ",
         "xaxis": "x",
         "y": [
          0,
          0,
          0,
          0,
          0,
          2,
          0,
          0,
          0,
          0,
          0,
          0,
          0,
          0,
          1,
          3,
          0,
          2,
          1,
          0,
          1,
          0,
          0,
          1,
          0,
          0,
          0,
          2,
          0,
          0,
          2,
          0,
          1,
          0,
          0,
          0,
          1,
          1,
          0,
          2,
          0,
          0,
          2,
          0,
          1,
          0,
          0,
          0,
          0,
          0,
          0,
          0,
          0,
          2,
          0,
          0,
          0,
          0,
          0,
          0
         ],
         "y0": " ",
         "yaxis": "y"
        },
        {
         "alignmentgroup": "True",
         "hovertemplate": "person_thrown=brown<br>period=%{x}<br>count=%{y}<extra></extra>",
         "legendgroup": "brown",
         "marker": {
          "color": "#9b4f0f"
         },
         "name": "brown",
         "notched": false,
         "offsetgroup": "brown",
         "orientation": "v",
         "showlegend": true,
         "type": "box",
         "x": [
          "8-9 AM",
          "9-10 AM",
          "10-11 AM",
          "11-12 AM",
          "12-1 PM",
          "1-2 PM",
          "2-3 PM",
          "3-4 PM",
          "4-5 PM",
          "5-6 PM",
          "6-7 PM",
          "7-8 PM",
          "8-9 AM",
          "9-10 AM",
          "10-11 AM",
          "11-12 AM",
          "12-1 PM",
          "1-2 PM",
          "2-3 PM",
          "3-4 PM",
          "4-5 PM",
          "5-6 PM",
          "6-7 PM",
          "7-8 PM",
          "8-9 AM",
          "9-10 AM",
          "10-11 AM",
          "11-12 AM",
          "12-1 PM",
          "1-2 PM",
          "2-3 PM",
          "3-4 PM",
          "4-5 PM",
          "5-6 PM",
          "6-7 PM",
          "7-8 PM",
          "8-9 AM",
          "9-10 AM",
          "10-11 AM",
          "11-12 AM",
          "12-1 PM",
          "1-2 PM",
          "2-3 PM",
          "3-4 PM",
          "4-5 PM",
          "5-6 PM",
          "6-7 PM",
          "7-8 PM",
          "8-9 AM",
          "9-10 AM",
          "10-11 AM",
          "11-12 AM",
          "12-1 PM",
          "1-2 PM",
          "2-3 PM",
          "3-4 PM",
          "4-5 PM",
          "5-6 PM",
          "6-7 PM",
          "7-8 PM"
         ],
         "x0": " ",
         "xaxis": "x",
         "y": [
          0,
          0,
          0,
          0,
          1,
          0,
          0,
          2,
          0,
          0,
          0,
          0,
          0,
          0,
          0,
          6,
          0,
          1,
          0,
          0,
          0,
          0,
          0,
          0,
          0,
          0,
          0,
          2,
          1,
          1,
          0,
          0,
          0,
          0,
          0,
          0,
          0,
          0,
          1,
          0,
          0,
          0,
          0,
          0,
          0,
          0,
          0,
          0,
          0,
          0,
          0,
          0,
          1,
          0,
          0,
          2,
          0,
          0,
          0,
          0
         ],
         "y0": " ",
         "yaxis": "y"
        },
        {
         "connectgaps": false,
         "line": {
          "color": "black",
          "dash": "dot",
          "width": 3
         },
         "marker": {
          "color": "black",
          "size": 7
         },
         "mode": "lines+markers",
         "name": "Average Count",
         "type": "scatter",
         "x": [
          "8-9 AM",
          "9-10 AM",
          "10-11 AM",
          "11-12 AM",
          "12-1 PM",
          "1-2 PM",
          "2-3 PM",
          "3-4 PM",
          "4-5 PM",
          "5-6 PM",
          "6-7 PM",
          "7-8 PM"
         ],
         "y": [
          0.3333333333333333,
          0.06666666666666667,
          0.13333333333333333,
          1.0666666666666667,
          0.6,
          1.2,
          0.3333333333333333,
          0.3333333333333333,
          0.3333333333333333,
          0,
          0,
          0.06666666666666667
         ]
        }
       ],
       "layout": {
        "boxgap": 0.3,
        "boxgroupgap": 0.1,
        "boxmode": "group",
        "legend": {
         "font": {
          "size": 22
         },
         "title": {
          "font": {
           "size": 22
          },
          "text": "Predicted"
         },
         "tracegroupgap": 0
        },
        "margin": {
         "t": 60
        },
        "template": {
         "data": {
          "bar": [
           {
            "error_x": {
             "color": "#2a3f5f"
            },
            "error_y": {
             "color": "#2a3f5f"
            },
            "marker": {
             "line": {
              "color": "white",
              "width": 0.5
             },
             "pattern": {
              "fillmode": "overlay",
              "size": 10,
              "solidity": 0.2
             }
            },
            "type": "bar"
           }
          ],
          "barpolar": [
           {
            "marker": {
             "line": {
              "color": "white",
              "width": 0.5
             },
             "pattern": {
              "fillmode": "overlay",
              "size": 10,
              "solidity": 0.2
             }
            },
            "type": "barpolar"
           }
          ],
          "carpet": [
           {
            "aaxis": {
             "endlinecolor": "#2a3f5f",
             "gridcolor": "#C8D4E3",
             "linecolor": "#C8D4E3",
             "minorgridcolor": "#C8D4E3",
             "startlinecolor": "#2a3f5f"
            },
            "baxis": {
             "endlinecolor": "#2a3f5f",
             "gridcolor": "#C8D4E3",
             "linecolor": "#C8D4E3",
             "minorgridcolor": "#C8D4E3",
             "startlinecolor": "#2a3f5f"
            },
            "type": "carpet"
           }
          ],
          "choropleth": [
           {
            "colorbar": {
             "outlinewidth": 0,
             "ticks": ""
            },
            "type": "choropleth"
           }
          ],
          "contour": [
           {
            "colorbar": {
             "outlinewidth": 0,
             "ticks": ""
            },
            "colorscale": [
             [
              0,
              "#0d0887"
             ],
             [
              0.1111111111111111,
              "#46039f"
             ],
             [
              0.2222222222222222,
              "#7201a8"
             ],
             [
              0.3333333333333333,
              "#9c179e"
             ],
             [
              0.4444444444444444,
              "#bd3786"
             ],
             [
              0.5555555555555556,
              "#d8576b"
             ],
             [
              0.6666666666666666,
              "#ed7953"
             ],
             [
              0.7777777777777778,
              "#fb9f3a"
             ],
             [
              0.8888888888888888,
              "#fdca26"
             ],
             [
              1,
              "#f0f921"
             ]
            ],
            "type": "contour"
           }
          ],
          "contourcarpet": [
           {
            "colorbar": {
             "outlinewidth": 0,
             "ticks": ""
            },
            "type": "contourcarpet"
           }
          ],
          "heatmap": [
           {
            "colorbar": {
             "outlinewidth": 0,
             "ticks": ""
            },
            "colorscale": [
             [
              0,
              "#0d0887"
             ],
             [
              0.1111111111111111,
              "#46039f"
             ],
             [
              0.2222222222222222,
              "#7201a8"
             ],
             [
              0.3333333333333333,
              "#9c179e"
             ],
             [
              0.4444444444444444,
              "#bd3786"
             ],
             [
              0.5555555555555556,
              "#d8576b"
             ],
             [
              0.6666666666666666,
              "#ed7953"
             ],
             [
              0.7777777777777778,
              "#fb9f3a"
             ],
             [
              0.8888888888888888,
              "#fdca26"
             ],
             [
              1,
              "#f0f921"
             ]
            ],
            "type": "heatmap"
           }
          ],
          "heatmapgl": [
           {
            "colorbar": {
             "outlinewidth": 0,
             "ticks": ""
            },
            "colorscale": [
             [
              0,
              "#0d0887"
             ],
             [
              0.1111111111111111,
              "#46039f"
             ],
             [
              0.2222222222222222,
              "#7201a8"
             ],
             [
              0.3333333333333333,
              "#9c179e"
             ],
             [
              0.4444444444444444,
              "#bd3786"
             ],
             [
              0.5555555555555556,
              "#d8576b"
             ],
             [
              0.6666666666666666,
              "#ed7953"
             ],
             [
              0.7777777777777778,
              "#fb9f3a"
             ],
             [
              0.8888888888888888,
              "#fdca26"
             ],
             [
              1,
              "#f0f921"
             ]
            ],
            "type": "heatmapgl"
           }
          ],
          "histogram": [
           {
            "marker": {
             "pattern": {
              "fillmode": "overlay",
              "size": 10,
              "solidity": 0.2
             }
            },
            "type": "histogram"
           }
          ],
          "histogram2d": [
           {
            "colorbar": {
             "outlinewidth": 0,
             "ticks": ""
            },
            "colorscale": [
             [
              0,
              "#0d0887"
             ],
             [
              0.1111111111111111,
              "#46039f"
             ],
             [
              0.2222222222222222,
              "#7201a8"
             ],
             [
              0.3333333333333333,
              "#9c179e"
             ],
             [
              0.4444444444444444,
              "#bd3786"
             ],
             [
              0.5555555555555556,
              "#d8576b"
             ],
             [
              0.6666666666666666,
              "#ed7953"
             ],
             [
              0.7777777777777778,
              "#fb9f3a"
             ],
             [
              0.8888888888888888,
              "#fdca26"
             ],
             [
              1,
              "#f0f921"
             ]
            ],
            "type": "histogram2d"
           }
          ],
          "histogram2dcontour": [
           {
            "colorbar": {
             "outlinewidth": 0,
             "ticks": ""
            },
            "colorscale": [
             [
              0,
              "#0d0887"
             ],
             [
              0.1111111111111111,
              "#46039f"
             ],
             [
              0.2222222222222222,
              "#7201a8"
             ],
             [
              0.3333333333333333,
              "#9c179e"
             ],
             [
              0.4444444444444444,
              "#bd3786"
             ],
             [
              0.5555555555555556,
              "#d8576b"
             ],
             [
              0.6666666666666666,
              "#ed7953"
             ],
             [
              0.7777777777777778,
              "#fb9f3a"
             ],
             [
              0.8888888888888888,
              "#fdca26"
             ],
             [
              1,
              "#f0f921"
             ]
            ],
            "type": "histogram2dcontour"
           }
          ],
          "mesh3d": [
           {
            "colorbar": {
             "outlinewidth": 0,
             "ticks": ""
            },
            "type": "mesh3d"
           }
          ],
          "parcoords": [
           {
            "line": {
             "colorbar": {
              "outlinewidth": 0,
              "ticks": ""
             }
            },
            "type": "parcoords"
           }
          ],
          "pie": [
           {
            "automargin": true,
            "type": "pie"
           }
          ],
          "scatter": [
           {
            "fillpattern": {
             "fillmode": "overlay",
             "size": 10,
             "solidity": 0.2
            },
            "type": "scatter"
           }
          ],
          "scatter3d": [
           {
            "line": {
             "colorbar": {
              "outlinewidth": 0,
              "ticks": ""
             }
            },
            "marker": {
             "colorbar": {
              "outlinewidth": 0,
              "ticks": ""
             }
            },
            "type": "scatter3d"
           }
          ],
          "scattercarpet": [
           {
            "marker": {
             "colorbar": {
              "outlinewidth": 0,
              "ticks": ""
             }
            },
            "type": "scattercarpet"
           }
          ],
          "scattergeo": [
           {
            "marker": {
             "colorbar": {
              "outlinewidth": 0,
              "ticks": ""
             }
            },
            "type": "scattergeo"
           }
          ],
          "scattergl": [
           {
            "marker": {
             "colorbar": {
              "outlinewidth": 0,
              "ticks": ""
             }
            },
            "type": "scattergl"
           }
          ],
          "scattermapbox": [
           {
            "marker": {
             "colorbar": {
              "outlinewidth": 0,
              "ticks": ""
             }
            },
            "type": "scattermapbox"
           }
          ],
          "scatterpolar": [
           {
            "marker": {
             "colorbar": {
              "outlinewidth": 0,
              "ticks": ""
             }
            },
            "type": "scatterpolar"
           }
          ],
          "scatterpolargl": [
           {
            "marker": {
             "colorbar": {
              "outlinewidth": 0,
              "ticks": ""
             }
            },
            "type": "scatterpolargl"
           }
          ],
          "scatterternary": [
           {
            "marker": {
             "colorbar": {
              "outlinewidth": 0,
              "ticks": ""
             }
            },
            "type": "scatterternary"
           }
          ],
          "surface": [
           {
            "colorbar": {
             "outlinewidth": 0,
             "ticks": ""
            },
            "colorscale": [
             [
              0,
              "#0d0887"
             ],
             [
              0.1111111111111111,
              "#46039f"
             ],
             [
              0.2222222222222222,
              "#7201a8"
             ],
             [
              0.3333333333333333,
              "#9c179e"
             ],
             [
              0.4444444444444444,
              "#bd3786"
             ],
             [
              0.5555555555555556,
              "#d8576b"
             ],
             [
              0.6666666666666666,
              "#ed7953"
             ],
             [
              0.7777777777777778,
              "#fb9f3a"
             ],
             [
              0.8888888888888888,
              "#fdca26"
             ],
             [
              1,
              "#f0f921"
             ]
            ],
            "type": "surface"
           }
          ],
          "table": [
           {
            "cells": {
             "fill": {
              "color": "#EBF0F8"
             },
             "line": {
              "color": "white"
             }
            },
            "header": {
             "fill": {
              "color": "#C8D4E3"
             },
             "line": {
              "color": "white"
             }
            },
            "type": "table"
           }
          ]
         },
         "layout": {
          "annotationdefaults": {
           "arrowcolor": "#2a3f5f",
           "arrowhead": 0,
           "arrowwidth": 1
          },
          "autotypenumbers": "strict",
          "coloraxis": {
           "colorbar": {
            "outlinewidth": 0,
            "ticks": ""
           }
          },
          "colorscale": {
           "diverging": [
            [
             0,
             "#8e0152"
            ],
            [
             0.1,
             "#c51b7d"
            ],
            [
             0.2,
             "#de77ae"
            ],
            [
             0.3,
             "#f1b6da"
            ],
            [
             0.4,
             "#fde0ef"
            ],
            [
             0.5,
             "#f7f7f7"
            ],
            [
             0.6,
             "#e6f5d0"
            ],
            [
             0.7,
             "#b8e186"
            ],
            [
             0.8,
             "#7fbc41"
            ],
            [
             0.9,
             "#4d9221"
            ],
            [
             1,
             "#276419"
            ]
           ],
           "sequential": [
            [
             0,
             "#0d0887"
            ],
            [
             0.1111111111111111,
             "#46039f"
            ],
            [
             0.2222222222222222,
             "#7201a8"
            ],
            [
             0.3333333333333333,
             "#9c179e"
            ],
            [
             0.4444444444444444,
             "#bd3786"
            ],
            [
             0.5555555555555556,
             "#d8576b"
            ],
            [
             0.6666666666666666,
             "#ed7953"
            ],
            [
             0.7777777777777778,
             "#fb9f3a"
            ],
            [
             0.8888888888888888,
             "#fdca26"
            ],
            [
             1,
             "#f0f921"
            ]
           ],
           "sequentialminus": [
            [
             0,
             "#0d0887"
            ],
            [
             0.1111111111111111,
             "#46039f"
            ],
            [
             0.2222222222222222,
             "#7201a8"
            ],
            [
             0.3333333333333333,
             "#9c179e"
            ],
            [
             0.4444444444444444,
             "#bd3786"
            ],
            [
             0.5555555555555556,
             "#d8576b"
            ],
            [
             0.6666666666666666,
             "#ed7953"
            ],
            [
             0.7777777777777778,
             "#fb9f3a"
            ],
            [
             0.8888888888888888,
             "#fdca26"
            ],
            [
             1,
             "#f0f921"
            ]
           ]
          },
          "colorway": [
           "#636efa",
           "#EF553B",
           "#00cc96",
           "#ab63fa",
           "#FFA15A",
           "#19d3f3",
           "#FF6692",
           "#B6E880",
           "#FF97FF",
           "#FECB52"
          ],
          "font": {
           "color": "#2a3f5f"
          },
          "geo": {
           "bgcolor": "white",
           "lakecolor": "white",
           "landcolor": "white",
           "showlakes": true,
           "showland": true,
           "subunitcolor": "#C8D4E3"
          },
          "hoverlabel": {
           "align": "left"
          },
          "hovermode": "closest",
          "mapbox": {
           "style": "light"
          },
          "paper_bgcolor": "white",
          "plot_bgcolor": "white",
          "polar": {
           "angularaxis": {
            "gridcolor": "#EBF0F8",
            "linecolor": "#EBF0F8",
            "ticks": ""
           },
           "bgcolor": "white",
           "radialaxis": {
            "gridcolor": "#EBF0F8",
            "linecolor": "#EBF0F8",
            "ticks": ""
           }
          },
          "scene": {
           "xaxis": {
            "backgroundcolor": "white",
            "gridcolor": "#DFE8F3",
            "gridwidth": 2,
            "linecolor": "#EBF0F8",
            "showbackground": true,
            "ticks": "",
            "zerolinecolor": "#EBF0F8"
           },
           "yaxis": {
            "backgroundcolor": "white",
            "gridcolor": "#DFE8F3",
            "gridwidth": 2,
            "linecolor": "#EBF0F8",
            "showbackground": true,
            "ticks": "",
            "zerolinecolor": "#EBF0F8"
           },
           "zaxis": {
            "backgroundcolor": "white",
            "gridcolor": "#DFE8F3",
            "gridwidth": 2,
            "linecolor": "#EBF0F8",
            "showbackground": true,
            "ticks": "",
            "zerolinecolor": "#EBF0F8"
           }
          },
          "shapedefaults": {
           "line": {
            "color": "#2a3f5f"
           }
          },
          "ternary": {
           "aaxis": {
            "gridcolor": "#DFE8F3",
            "linecolor": "#A2B1C6",
            "ticks": ""
           },
           "baxis": {
            "gridcolor": "#DFE8F3",
            "linecolor": "#A2B1C6",
            "ticks": ""
           },
           "bgcolor": "white",
           "caxis": {
            "gridcolor": "#DFE8F3",
            "linecolor": "#A2B1C6",
            "ticks": ""
           }
          },
          "title": {
           "x": 0.05
          },
          "xaxis": {
           "automargin": true,
           "gridcolor": "#EBF0F8",
           "linecolor": "#EBF0F8",
           "ticks": "",
           "title": {
            "standoff": 15
           },
           "zerolinecolor": "#EBF0F8",
           "zerolinewidth": 2
          },
          "yaxis": {
           "automargin": true,
           "gridcolor": "#EBF0F8",
           "linecolor": "#EBF0F8",
           "ticks": "",
           "title": {
            "standoff": 15
           },
           "zerolinecolor": "#EBF0F8",
           "zerolinewidth": 2
          }
         }
        },
        "title": {
         "font": {
          "size": 24
         },
         "x": 0.5
        },
        "xaxis": {
         "anchor": "y",
         "domain": [
          0,
          1
         ],
         "tickangle": 30,
         "tickfont": {
          "size": 28
         },
         "title": {
          "font": {
           "size": 28
          },
          "text": "Period"
         }
        },
        "yaxis": {
         "anchor": "x",
         "automargin": true,
         "domain": [
          0,
          1
         ],
         "dtick": [
          1,
          4
         ],
         "tickfont": {
          "size": 28
         },
         "title": {
          "font": {
           "size": 28
          },
          "text": "Count"
         }
        }
       }
      }
     },
     "metadata": {},
     "output_type": "display_data"
    }
   ],
   "source": [
    "#to df \n",
    "average_counts = df_time.groupby('period')['count'].mean()\n",
    "average_counts = average_counts.to_dict()\n",
    "#dict to df\n",
    "df_average_counts = pd.DataFrame(average_counts.items(), columns=['period', 'average_count'])\n",
    "df_average_counts[\"hour\"] = df_average_counts[\"period\"].map(time_dicc_reverse)\n",
    "#sort by hour\n",
    "df_average_counts = df_average_counts.sort_values(by=['hour'], ascending=True)\n",
    "df_average_counts\n",
    "\n",
    "\n",
    "# Define a custom color palette for Plotly\n",
    "custom_palette = {\n",
    "    \"blue\": \"#1b7ef7\",\n",
    "    \"yellow\": \"#fff200\",\n",
    "    \"brown\": \"#9b4f0f\",\n",
    "}\n",
    "\n",
    "\n",
    "# Create the Plotly boxplot\n",
    "fig = px.box(\n",
    "    df_time,\n",
    "    x='period',\n",
    "    y='count',\n",
    "    color='person_thrown',\n",
    "    color_discrete_map=custom_palette,\n",
    "    template='plotly_white',\n",
    ")\n",
    "\n",
    "# Add a line trace for the average counts\n",
    "fig.add_trace(\n",
    "    go.Scatter(\n",
    "        x=  df_average_counts[\"period\"],  # Periods on the x-axis\n",
    "        y= df_average_counts[\"average_count\"],  # Average counts on the y-axis\n",
    "        mode='lines+markers',  # Line with markers\n",
    "        name='Average Count',\n",
    "        line=dict(color='black', width=3, dash='dot'),  # Custom line style\n",
    "        marker=dict(size=7, color='black'),\n",
    "        connectgaps=False,  # Ensures no connection between non-consecutive points\n",
    "\n",
    "    )\n",
    ")\n",
    "\n",
    "# Update layout for improved aesthetics and spacing\n",
    "fig.update_layout(\n",
    "    title=dict(font=dict(size=24), x=0.5),\n",
    "    xaxis=dict(\n",
    "        title=\"Period\",\n",
    "        titlefont=dict(size=28),\n",
    "        tickfont=dict(size=28),\n",
    "        tickangle=30,\n",
    "    ),\n",
    "    yaxis=dict(\n",
    "        title=\"Count\",\n",
    "        titlefont=dict(size=28),\n",
    "        tickfont=dict(size=28),\n",
    "        automargin=True,  # Adjusts spacing dynamically\n",
    "        #tickmode='linear',  # Ensures evenly spaced ticks\n",
    "        dtick=[1,4],  # Adjust as needed for closer spacing\n",
    "    ),\n",
    "    legend=dict(\n",
    "        title=\"Predicted\",\n",
    "        title_font=dict(size=22),\n",
    "        font=dict(size=22),\n",
    "    ),\n",
    "    boxmode='group',\n",
    "    boxgap=0.3,\n",
    "    boxgroupgap=0.1,\n",
    ")\n",
    "\n",
    "# Show the interactive boxplot\n",
    "fig.show()"
   ]
  }
 ],
 "metadata": {
  "kernelspec": {
   "display_name": ".venv",
   "language": "python",
   "name": "python3"
  },
  "language_info": {
   "codemirror_mode": {
    "name": "ipython",
    "version": 3
   },
   "file_extension": ".py",
   "mimetype": "text/x-python",
   "name": "python",
   "nbconvert_exporter": "python",
   "pygments_lexer": "ipython3",
   "version": "3.10.12"
  }
 },
 "nbformat": 4,
 "nbformat_minor": 2
}
